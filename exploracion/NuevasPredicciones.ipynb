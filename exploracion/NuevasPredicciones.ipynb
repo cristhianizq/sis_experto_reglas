{
 "cells": [
  {
   "cell_type": "markdown",
   "id": "7927d6d6",
   "metadata": {},
   "source": [
    "# Reunión\n",
    "* todero aseador\n",
    "* valor cuota administración  aumenta solo 7,5%\n",
    "* cuota extraordinaría   2.533.650.  Tengo el mejor apartamento del conjunto   2.46\n",
    "* 23 de Abril siguiente reunión"
   ]
  },
  {
   "cell_type": "markdown",
   "id": "3c765486",
   "metadata": {},
   "source": [
    "# Plan\n",
    "* Crear archivos ejemplo\n",
    "* samplo\n",
    "* validar referencias"
   ]
  },
  {
   "cell_type": "code",
   "execution_count": 1,
   "id": "54c191e4",
   "metadata": {},
   "outputs": [],
   "source": [
    "import pandas as pd\n",
    "import numpy as np"
   ]
  },
  {
   "cell_type": "code",
   "execution_count": 2,
   "id": "45d3e7dc",
   "metadata": {},
   "outputs": [
    {
     "data": {
      "text/html": [
       "<style>.container { width:100% !important; }</style>"
      ],
      "text/plain": [
       "<IPython.core.display.HTML object>"
      ]
     },
     "metadata": {},
     "output_type": "display_data"
    }
   ],
   "source": [
    "from IPython.core.display import display, HTML\n",
    "import warnings\n",
    "warnings.filterwarnings('ignore')\n",
    "display(HTML(\"<style>.container { width:100% !important; }</style>\"))\n",
    "pd.set_option('display.max_columns', None)\n",
    "pd.set_option('max_colwidth', 800)"
   ]
  },
  {
   "cell_type": "code",
   "execution_count": 3,
   "id": "d61fd222",
   "metadata": {
    "scrolled": true
   },
   "outputs": [
    {
     "name": "stderr",
     "output_type": "stream",
     "text": [
      "C:\\ProgramData\\Anaconda3\\envs\\T\\lib\\site-packages\\scipy\\sparse\\sparsetools.py:21: DeprecationWarning: `scipy.sparse.sparsetools` is deprecated!\n",
      "scipy.sparse.sparsetools is a private module for scipy.sparse, and should not be used.\n",
      "  _deprecated()\n"
     ]
    }
   ],
   "source": [
    "import pyLDAvis\n",
    "import pyLDAvis.sklearn\n",
    "pyLDAvis.enable_notebook()\n",
    "import gensim\n",
    "import pyLDAvis.gensim_models\n",
    "from gensim.models.coherencemodel import CoherenceModel\n",
    "from gensim import corpora\n",
    "from gensim.corpora import Dictionary\n",
    "from gensim.models import LdaModel\n",
    "\n",
    "from nltk.corpus import stopwords\n",
    "from nltk.stem import SnowballStemmer\n",
    "from nltk.tokenize import ToktokTokenizer\n",
    "import nltk"
   ]
  },
  {
   "cell_type": "code",
   "execution_count": 4,
   "id": "392f6eb4",
   "metadata": {},
   "outputs": [],
   "source": [
    "import json, re\n",
    "from joblib import dump,load"
   ]
  },
  {
   "cell_type": "code",
   "execution_count": 5,
   "id": "94f392b3",
   "metadata": {},
   "outputs": [],
   "source": [
    "from sklearn.model_selection import train_test_split\n",
    "from sklearn.preprocessing import OneHotEncoder\n",
    "from lightgbm import LGBMClassifier"
   ]
  },
  {
   "cell_type": "code",
   "execution_count": 6,
   "id": "c03ca8d5",
   "metadata": {},
   "outputs": [],
   "source": [
    "def limpiar_texto(texto):\n",
    "    \"\"\"\n",
    "    Función para realizar la limpieza de un texto dado.\n",
    "    \"\"\"\n",
    "    # Eliminamos los caracteres especiales\n",
    "    texto = re.sub(r'\\W', ' ', str(texto))\n",
    "    # Eliminamos comas y /\n",
    "    texto = re.sub(r',', ' ', str(texto))\n",
    "    texto = re.sub(r'/', ' ', str(texto))\n",
    "    # Eliminado las palabras que tengo un solo caracter\n",
    "    texto = re.sub(r'\\s+[a-zA-Z]\\s+', ' ', texto)\n",
    "    # Sustituir los espacios en blanco en uno solo\n",
    "    texto = re.sub(r'\\s+', ' ', texto, flags=re.I)\n",
    "    # Convertimos textos a minusculas\n",
    "    texto = texto.lower()\n",
    "    return texto"
   ]
  },
  {
   "cell_type": "code",
   "execution_count": 7,
   "id": "f7fc1511",
   "metadata": {
    "scrolled": true
   },
   "outputs": [
    {
     "name": "stderr",
     "output_type": "stream",
     "text": [
      "[nltk_data] Downloading package stopwords to\n",
      "[nltk_data]     C:\\Users\\CristhianJohnatanIzq\\AppData\\Roaming\\nltk_dat\n",
      "[nltk_data]     a...\n",
      "[nltk_data]   Package stopwords is already up-to-date!\n"
     ]
    }
   ],
   "source": [
    "nltk.download('stopwords')\n",
    "STOPWORDS = set(stopwords.words(\"spanish\"))\n",
    "def filtrar_stopword_digitos(tokens):\n",
    "    \"\"\"\n",
    "    Filtra stopwords y digitos de una lista de tokens.\n",
    "    \"\"\"\n",
    "    return [token for token in tokens if token not in STOPWORDS \n",
    "            and not token.isdigit()]\n",
    "\n",
    "stemmer = SnowballStemmer(\"spanish\")\n",
    "def stem_palabras(tokens):\n",
    "    \"\"\"\n",
    "    Reduce cada palabra de una lista dada a su raíz.\n",
    "    \"\"\"\n",
    "    return [stemmer.stem(token) for token in tokens]\n"
   ]
  },
  {
   "cell_type": "code",
   "execution_count": 8,
   "id": "e47be876",
   "metadata": {},
   "outputs": [],
   "source": [
    "stemmer = SnowballStemmer(\"spanish\")\n",
    "def stem_palabras(tokens):\n",
    "    \"\"\"\n",
    "    Reduce cada palabra de una lista dada a su raíz.\n",
    "    \"\"\"\n",
    "    return [stemmer.stem(token) for token in tokens]"
   ]
  },
  {
   "cell_type": "code",
   "execution_count": 9,
   "id": "7d755476",
   "metadata": {},
   "outputs": [],
   "source": [
    "def Limpiar_Caracter(texto):\n",
    "    if len(texto) == 1 or texto == ',':\n",
    "        texto = ''\n",
    "    else:\n",
    "        texto = texto\n",
    "    return texto"
   ]
  },
  {
   "cell_type": "code",
   "execution_count": 10,
   "id": "67d66917",
   "metadata": {},
   "outputs": [],
   "source": [
    "#modelo topicos\n",
    "### Funciones para modelo de tópicos\n",
    "def make_bigrams(texts,bigram_mod):\n",
    "    return [bigram_mod[doc] for doc in texts]\n",
    "\n",
    "def make_trigrams(texts,bigram_mod,trigram_mod):\n",
    "    return [trigram_mod[bigram_mod[doc]] for doc in texts]\n",
    "\n",
    "def impresionTopicos(mod,nPalabras,nTopicos):\n",
    "    topicos = mod.print_topics(num_words=nPalabras, num_topics=nTopicos)\n",
    "    for topico in topicos:\n",
    "        print(topico)    \n",
    "        \n",
    "def impresionTopicosLimp(mod,nPalabras,nTopicos):\n",
    "    #Impresion limpia de Tópicos\n",
    "    topicos = mod.print_topics(num_words=nPalabras, num_topics=nTopicos)\n",
    "    i=0\n",
    "    for topico in topicos:\n",
    "        i=i+1\n",
    "        textoAux = re.sub(r'\\W', ' ', str(topico))\n",
    "        textoAux = re.sub(r'\\s+[a-zA-Z]\\s+', ' ', textoAux)\n",
    "        textoAux = re.sub(r'[0-9]', ' ', textoAux)\n",
    "        textoAux = re.sub(r'\\s+', ' ', textoAux, flags=re.I)\n",
    "        print(str(i),textoAux)"
   ]
  },
  {
   "cell_type": "code",
   "execution_count": 11,
   "id": "76e4861f",
   "metadata": {},
   "outputs": [],
   "source": [
    "def disbribucionProbTopicos(arr_text):\n",
    "    bow_comentario = diccionario.doc2bow(arr_text)\n",
    "    distribucion_noticia = lda[bow_comentario]\n",
    "    print(len(distribucion_noticia))\n",
    "    print(distribucion_noticia)\n",
    "    print (dict(distribucion_noticia))\n",
    "    df_aux=pd.DataFrame(distribucion_noticia,columns=['ind','prob'])\n",
    "    print(df_aux)\n",
    "    df_plan=pd.DataFrame(index=range(0,numeroTopicos))\n",
    "    df_plan=df_plan.merge(df_aux, left_index=True, right_on='ind', how='left')\n",
    "    df_plan.fillna(0,inplace=True)\n",
    "    df_plan.set_index('ind', inplace=True)\n",
    "    print(df_plan['prob'])\n",
    "    #return [x[1] for x in distribucion_noticia]    \n",
    "    return df_plan['prob']"
   ]
  },
  {
   "cell_type": "markdown",
   "id": "1c5d199f",
   "metadata": {},
   "source": [
    "# Carga de Archivos\n",
    "* maximo.classification.csv\n",
    "* maximo.classstructure.csv\n",
    "* maximo.failurecode.csv\n",
    "* maximo.incident.csv\n",
    "* maximo.longdescription.csv"
   ]
  },
  {
   "cell_type": "markdown",
   "id": "e27f9911",
   "metadata": {},
   "source": [
    "# Crear archivos de ejemplo"
   ]
  },
  {
   "cell_type": "code",
   "execution_count": 12,
   "id": "b0b9864b",
   "metadata": {},
   "outputs": [],
   "source": [
    "df_independientes= pd.read_csv('fuente2/maximo.incident_4_tablas.csv',sep='|', header = 0)\n",
    "df_dependientes= pd.read_csv('fuente2/maximo.incident_2_tablas.csv',sep='|', header = 0)"
   ]
  },
  {
   "cell_type": "code",
   "execution_count": 13,
   "id": "b61a8b9d",
   "metadata": {},
   "outputs": [
    {
     "data": {
      "text/plain": [
       "1519015"
      ]
     },
     "execution_count": 13,
     "metadata": {},
     "output_type": "execute_result"
    }
   ],
   "source": [
    "# validación filtros\n",
    "len(df_independientes)"
   ]
  },
  {
   "cell_type": "code",
   "execution_count": 14,
   "id": "c4680de3",
   "metadata": {},
   "outputs": [
    {
     "data": {
      "text/plain": [
       "1519015"
      ]
     },
     "execution_count": 14,
     "metadata": {},
     "output_type": "execute_result"
    }
   ],
   "source": [
    "len(df_independientes[df_independientes['STATUS']=='CERRADO'])"
   ]
  },
  {
   "cell_type": "code",
   "execution_count": 15,
   "id": "34e7a17d",
   "metadata": {},
   "outputs": [
    {
     "data": {
      "text/plain": [
       "1519015"
      ]
     },
     "execution_count": 15,
     "metadata": {},
     "output_type": "execute_result"
    }
   ],
   "source": [
    "len(df_independientes[df_independientes['FAILURECODE'].notnull()])"
   ]
  },
  {
   "cell_type": "code",
   "execution_count": 16,
   "id": "0cdb96c7",
   "metadata": {},
   "outputs": [],
   "source": [
    "eje_df_independientes=df_independientes.sample(100)"
   ]
  },
  {
   "cell_type": "code",
   "execution_count": 17,
   "id": "405f1580",
   "metadata": {
    "scrolled": true
   },
   "outputs": [
    {
     "data": {
      "text/plain": [
       "['INC1081335',\n",
       " 'INC4082980',\n",
       " 'INC3348348',\n",
       " 'INC3099996',\n",
       " 'INC5100274',\n",
       " 'INC1303853',\n",
       " 'INC4204548',\n",
       " 'INC993763',\n",
       " 'INC4744033',\n",
       " 'INC1236594',\n",
       " 'INC3669358',\n",
       " 'INC3631432',\n",
       " 'INC4074127',\n",
       " 'INC1914156',\n",
       " 'INC4107487',\n",
       " 'INC2313910',\n",
       " 'INC1756200',\n",
       " 'INC991065',\n",
       " 'INC4228139',\n",
       " 'INC4718216',\n",
       " 'INC5828417',\n",
       " 'INC2398950',\n",
       " 'INC3059292',\n",
       " 'INC4150416',\n",
       " 'INC5121880',\n",
       " 'INC3899780',\n",
       " 'INC5072726',\n",
       " 'INC3576793',\n",
       " 'INC3057560',\n",
       " 'INC5564638',\n",
       " 'INC1362218',\n",
       " 'INC5650232',\n",
       " 'INC3192479',\n",
       " 'INC4685602',\n",
       " 'INC1100318',\n",
       " 'INC2689457',\n",
       " 'INC1654129',\n",
       " 'INC4396182',\n",
       " 'INC1760221',\n",
       " 'INC5845146',\n",
       " 'INC2481063',\n",
       " 'INC1381836',\n",
       " 'INC4240570',\n",
       " 'INC5632925',\n",
       " 'INC3764700',\n",
       " 'INC4829164',\n",
       " 'INC2098568',\n",
       " 'INC1679739',\n",
       " 'INC3141377',\n",
       " 'INC1534128',\n",
       " 'INC2114135',\n",
       " 'INC3106429',\n",
       " 'INC5768080',\n",
       " 'INC3640359',\n",
       " 'INC5180362',\n",
       " 'INC4118155',\n",
       " 'INC1377728',\n",
       " 'INC3239328',\n",
       " 'INC3968495',\n",
       " 'INC4679316',\n",
       " 'INC2140334',\n",
       " 'INC5747049',\n",
       " 'INC2589270',\n",
       " 'INC3080964',\n",
       " 'INC4837757',\n",
       " 'INC5686730',\n",
       " 'INC1358109',\n",
       " 'INC3318054',\n",
       " 'INC1981728',\n",
       " 'INC4350738',\n",
       " 'INC1020441',\n",
       " 'INC4048270',\n",
       " 'INC5756837',\n",
       " 'INC2084937',\n",
       " 'INC1066848',\n",
       " 'INC4798800',\n",
       " 'INC1640227',\n",
       " 'INC4996363',\n",
       " 'INC3584206',\n",
       " 'INC5397988',\n",
       " 'INC4713165',\n",
       " 'INC3976600',\n",
       " 'INC5428834',\n",
       " 'INC3129893',\n",
       " 'INC000000013775',\n",
       " 'INC5717835',\n",
       " 'INC5842376',\n",
       " 'INC2364892',\n",
       " 'INC1983289',\n",
       " 'INC2589496',\n",
       " 'INC5082576',\n",
       " 'INC2039962',\n",
       " 'INC5958396',\n",
       " 'INC1046796',\n",
       " 'INC1305447',\n",
       " 'INC3885835',\n",
       " 'INC1862632',\n",
       " 'INC1861937',\n",
       " 'INC5169101',\n",
       " 'INC2704525']"
      ]
     },
     "execution_count": 17,
     "metadata": {},
     "output_type": "execute_result"
    }
   ],
   "source": [
    "tickets_id=list(eje_df_independientes['TICKETID'].values)\n",
    "tickets_id"
   ]
  },
  {
   "cell_type": "code",
   "execution_count": 18,
   "id": "fe578ada",
   "metadata": {},
   "outputs": [],
   "source": [
    "eje_df_dependientes=df_dependientes[df_dependientes['TICKETID'].isin(tickets_id)]"
   ]
  },
  {
   "cell_type": "code",
   "execution_count": 19,
   "id": "4bbfb87e",
   "metadata": {},
   "outputs": [
    {
     "data": {
      "text/plain": [
       "299"
      ]
     },
     "execution_count": 19,
     "metadata": {},
     "output_type": "execute_result"
    }
   ],
   "source": [
    "len(eje_df_dependientes)"
   ]
  },
  {
   "cell_type": "code",
   "execution_count": 20,
   "id": "0e7b19f9",
   "metadata": {},
   "outputs": [],
   "source": [
    "eje_df_independientes.to_csv('fuente2/maximo.incident_4_tablas_sample.csv',index=False)\n",
    "eje_df_dependientes.to_csv('fuente2/maximo.incident_2_tablas_sample.csv',index=False)"
   ]
  },
  {
   "cell_type": "markdown",
   "id": "b75ae792",
   "metadata": {},
   "source": [
    "# Cargar objetivos serializados"
   ]
  },
  {
   "cell_type": "markdown",
   "id": "55ac4432",
   "metadata": {},
   "source": [
    "# Parametros globales"
   ]
  },
  {
   "cell_type": "code",
   "execution_count": 27,
   "id": "07cad753",
   "metadata": {},
   "outputs": [],
   "source": [
    "num_min_cat=150"
   ]
  },
  {
   "cell_type": "markdown",
   "id": "b22113d5",
   "metadata": {},
   "source": [
    "# Procesamiento nuevos casos"
   ]
  },
  {
   "cell_type": "code",
   "execution_count": 21,
   "id": "7ba79f7f",
   "metadata": {},
   "outputs": [],
   "source": [
    "var_num=['IMPACT','INCCARGAPRIORIDAD','INTERNALPRIORITY','OUTAGEDURATION','URGENCY']\n",
    "var_texto=['CL_C_DESC_AFECTACION','C_CL_AFECTA','DESCRIPTION','INCMEXCLUSION','INCSOLUCION']\n",
    "var_bool=['DIAGNOSTICADO','HASACTIVITY','HASLD','INCEXCLUIR','INCEXCLUIR_ENLD','INC_ALARMA','MUN100','SRDATOS','SRINTERNET','SRTV','SRVOZ',\n",
    "         'HASCHILDREN','USECLASSINDESC'\n",
    "         ]\n",
    "var_cat=['ASSIGNEDOWNERGROUP','CL_C_TIPO','CL_SERVICIO','CL_SER_AFEC','EXTERNALSYSTEM','FR1CODE','ONCALLOWNERGROUP','ORIGRECORDCLASS','PROBLEMCODE','PROVEEDORES','REGIONAL','TICKET_EXT',\n",
    "        'TIPOCOMUNICADO','WORKTYPE','FR2CODE','INCSERVICE','CLASSIFICATIONID','DESCRIPCION_TECNICA','INCMESTADO',\n",
    "         'PERSONGROUP','DESCRIPTION.2'\n",
    "        ]\n",
    "var_etiqueta=['FAILURECODE','TICKETID']"
   ]
  },
  {
   "cell_type": "code",
   "execution_count": 22,
   "id": "e4e3664d",
   "metadata": {},
   "outputs": [],
   "source": [
    "eje_df_independientes.set_index('TICKETID',inplace=True)"
   ]
  },
  {
   "cell_type": "code",
   "execution_count": 25,
   "id": "205ee535",
   "metadata": {},
   "outputs": [],
   "source": [
    "eje_df_independientes.fillna(-1,inplace=True)"
   ]
  },
  {
   "cell_type": "code",
   "execution_count": 26,
   "id": "894bbd76",
   "metadata": {},
   "outputs": [
    {
     "data": {
      "text/html": [
       "<div>\n",
       "<style scoped>\n",
       "    .dataframe tbody tr th:only-of-type {\n",
       "        vertical-align: middle;\n",
       "    }\n",
       "\n",
       "    .dataframe tbody tr th {\n",
       "        vertical-align: top;\n",
       "    }\n",
       "\n",
       "    .dataframe thead th {\n",
       "        text-align: right;\n",
       "    }\n",
       "</style>\n",
       "<table border=\"1\" class=\"dataframe\">\n",
       "  <thead>\n",
       "    <tr style=\"text-align: right;\">\n",
       "      <th></th>\n",
       "      <th>IMPACT</th>\n",
       "      <th>INCCARGAPRIORIDAD</th>\n",
       "      <th>INTERNALPRIORITY</th>\n",
       "      <th>OUTAGEDURATION</th>\n",
       "      <th>URGENCY</th>\n",
       "      <th>DIAGNOSTICADO</th>\n",
       "      <th>HASACTIVITY</th>\n",
       "      <th>HASLD</th>\n",
       "      <th>INCEXCLUIR</th>\n",
       "      <th>INCEXCLUIR_ENLD</th>\n",
       "      <th>INC_ALARMA</th>\n",
       "      <th>MUN100</th>\n",
       "      <th>SRDATOS</th>\n",
       "      <th>SRINTERNET</th>\n",
       "      <th>SRTV</th>\n",
       "      <th>SRVOZ</th>\n",
       "      <th>HASCHILDREN</th>\n",
       "      <th>USECLASSINDESC</th>\n",
       "    </tr>\n",
       "    <tr>\n",
       "      <th>TICKETID</th>\n",
       "      <th></th>\n",
       "      <th></th>\n",
       "      <th></th>\n",
       "      <th></th>\n",
       "      <th></th>\n",
       "      <th></th>\n",
       "      <th></th>\n",
       "      <th></th>\n",
       "      <th></th>\n",
       "      <th></th>\n",
       "      <th></th>\n",
       "      <th></th>\n",
       "      <th></th>\n",
       "      <th></th>\n",
       "      <th></th>\n",
       "      <th></th>\n",
       "      <th></th>\n",
       "      <th></th>\n",
       "    </tr>\n",
       "  </thead>\n",
       "  <tbody>\n",
       "    <tr>\n",
       "      <th>INC1081335</th>\n",
       "      <td>3.0</td>\n",
       "      <td>2.0</td>\n",
       "      <td>3.0</td>\n",
       "      <td>0.000000</td>\n",
       "      <td>3.0</td>\n",
       "      <td>0</td>\n",
       "      <td>0</td>\n",
       "      <td>1</td>\n",
       "      <td>0</td>\n",
       "      <td>0</td>\n",
       "      <td>0</td>\n",
       "      <td>0</td>\n",
       "      <td>0</td>\n",
       "      <td>0</td>\n",
       "      <td>0</td>\n",
       "      <td>0</td>\n",
       "      <td>0.0</td>\n",
       "      <td>1.0</td>\n",
       "    </tr>\n",
       "    <tr>\n",
       "      <th>INC4082980</th>\n",
       "      <td>3.0</td>\n",
       "      <td>-1.0</td>\n",
       "      <td>3.0</td>\n",
       "      <td>1.933333</td>\n",
       "      <td>3.0</td>\n",
       "      <td>0</td>\n",
       "      <td>0</td>\n",
       "      <td>1</td>\n",
       "      <td>0</td>\n",
       "      <td>0</td>\n",
       "      <td>0</td>\n",
       "      <td>0</td>\n",
       "      <td>0</td>\n",
       "      <td>0</td>\n",
       "      <td>0</td>\n",
       "      <td>0</td>\n",
       "      <td>0.0</td>\n",
       "      <td>1.0</td>\n",
       "    </tr>\n",
       "    <tr>\n",
       "      <th>INC3348348</th>\n",
       "      <td>3.0</td>\n",
       "      <td>-1.0</td>\n",
       "      <td>3.0</td>\n",
       "      <td>19.616667</td>\n",
       "      <td>3.0</td>\n",
       "      <td>1</td>\n",
       "      <td>1</td>\n",
       "      <td>1</td>\n",
       "      <td>0</td>\n",
       "      <td>0</td>\n",
       "      <td>0</td>\n",
       "      <td>0</td>\n",
       "      <td>0</td>\n",
       "      <td>1</td>\n",
       "      <td>0</td>\n",
       "      <td>0</td>\n",
       "      <td>0.0</td>\n",
       "      <td>1.0</td>\n",
       "    </tr>\n",
       "    <tr>\n",
       "      <th>INC3099996</th>\n",
       "      <td>3.0</td>\n",
       "      <td>-1.0</td>\n",
       "      <td>3.0</td>\n",
       "      <td>0.000000</td>\n",
       "      <td>3.0</td>\n",
       "      <td>1</td>\n",
       "      <td>1</td>\n",
       "      <td>1</td>\n",
       "      <td>0</td>\n",
       "      <td>0</td>\n",
       "      <td>1</td>\n",
       "      <td>0</td>\n",
       "      <td>0</td>\n",
       "      <td>0</td>\n",
       "      <td>0</td>\n",
       "      <td>0</td>\n",
       "      <td>0.0</td>\n",
       "      <td>1.0</td>\n",
       "    </tr>\n",
       "    <tr>\n",
       "      <th>INC5100274</th>\n",
       "      <td>2.0</td>\n",
       "      <td>-1.0</td>\n",
       "      <td>3.0</td>\n",
       "      <td>4.100000</td>\n",
       "      <td>3.0</td>\n",
       "      <td>1</td>\n",
       "      <td>0</td>\n",
       "      <td>1</td>\n",
       "      <td>0</td>\n",
       "      <td>0</td>\n",
       "      <td>0</td>\n",
       "      <td>0</td>\n",
       "      <td>0</td>\n",
       "      <td>0</td>\n",
       "      <td>0</td>\n",
       "      <td>0</td>\n",
       "      <td>0.0</td>\n",
       "      <td>1.0</td>\n",
       "    </tr>\n",
       "    <tr>\n",
       "      <th>...</th>\n",
       "      <td>...</td>\n",
       "      <td>...</td>\n",
       "      <td>...</td>\n",
       "      <td>...</td>\n",
       "      <td>...</td>\n",
       "      <td>...</td>\n",
       "      <td>...</td>\n",
       "      <td>...</td>\n",
       "      <td>...</td>\n",
       "      <td>...</td>\n",
       "      <td>...</td>\n",
       "      <td>...</td>\n",
       "      <td>...</td>\n",
       "      <td>...</td>\n",
       "      <td>...</td>\n",
       "      <td>...</td>\n",
       "      <td>...</td>\n",
       "      <td>...</td>\n",
       "    </tr>\n",
       "    <tr>\n",
       "      <th>INC3885835</th>\n",
       "      <td>2.0</td>\n",
       "      <td>-1.0</td>\n",
       "      <td>3.0</td>\n",
       "      <td>0.000000</td>\n",
       "      <td>3.0</td>\n",
       "      <td>1</td>\n",
       "      <td>0</td>\n",
       "      <td>1</td>\n",
       "      <td>0</td>\n",
       "      <td>0</td>\n",
       "      <td>0</td>\n",
       "      <td>0</td>\n",
       "      <td>0</td>\n",
       "      <td>0</td>\n",
       "      <td>0</td>\n",
       "      <td>0</td>\n",
       "      <td>0.0</td>\n",
       "      <td>1.0</td>\n",
       "    </tr>\n",
       "    <tr>\n",
       "      <th>INC1862632</th>\n",
       "      <td>3.0</td>\n",
       "      <td>2.0</td>\n",
       "      <td>3.0</td>\n",
       "      <td>172.683333</td>\n",
       "      <td>3.0</td>\n",
       "      <td>1</td>\n",
       "      <td>1</td>\n",
       "      <td>1</td>\n",
       "      <td>0</td>\n",
       "      <td>0</td>\n",
       "      <td>0</td>\n",
       "      <td>0</td>\n",
       "      <td>0</td>\n",
       "      <td>1</td>\n",
       "      <td>1</td>\n",
       "      <td>1</td>\n",
       "      <td>0.0</td>\n",
       "      <td>1.0</td>\n",
       "    </tr>\n",
       "    <tr>\n",
       "      <th>INC1861937</th>\n",
       "      <td>1.0</td>\n",
       "      <td>4.0</td>\n",
       "      <td>1.0</td>\n",
       "      <td>8.116667</td>\n",
       "      <td>1.0</td>\n",
       "      <td>0</td>\n",
       "      <td>1</td>\n",
       "      <td>1</td>\n",
       "      <td>0</td>\n",
       "      <td>0</td>\n",
       "      <td>0</td>\n",
       "      <td>0</td>\n",
       "      <td>0</td>\n",
       "      <td>1</td>\n",
       "      <td>0</td>\n",
       "      <td>1</td>\n",
       "      <td>0.0</td>\n",
       "      <td>1.0</td>\n",
       "    </tr>\n",
       "    <tr>\n",
       "      <th>INC5169101</th>\n",
       "      <td>3.0</td>\n",
       "      <td>-1.0</td>\n",
       "      <td>3.0</td>\n",
       "      <td>0.000000</td>\n",
       "      <td>3.0</td>\n",
       "      <td>1</td>\n",
       "      <td>1</td>\n",
       "      <td>1</td>\n",
       "      <td>0</td>\n",
       "      <td>0</td>\n",
       "      <td>0</td>\n",
       "      <td>0</td>\n",
       "      <td>0</td>\n",
       "      <td>0</td>\n",
       "      <td>0</td>\n",
       "      <td>0</td>\n",
       "      <td>0.0</td>\n",
       "      <td>1.0</td>\n",
       "    </tr>\n",
       "    <tr>\n",
       "      <th>INC2704525</th>\n",
       "      <td>2.0</td>\n",
       "      <td>-1.0</td>\n",
       "      <td>3.0</td>\n",
       "      <td>155.716667</td>\n",
       "      <td>3.0</td>\n",
       "      <td>0</td>\n",
       "      <td>0</td>\n",
       "      <td>1</td>\n",
       "      <td>1</td>\n",
       "      <td>0</td>\n",
       "      <td>1</td>\n",
       "      <td>0</td>\n",
       "      <td>0</td>\n",
       "      <td>0</td>\n",
       "      <td>0</td>\n",
       "      <td>0</td>\n",
       "      <td>0.0</td>\n",
       "      <td>1.0</td>\n",
       "    </tr>\n",
       "  </tbody>\n",
       "</table>\n",
       "<p>100 rows × 18 columns</p>\n",
       "</div>"
      ],
      "text/plain": [
       "            IMPACT  INCCARGAPRIORIDAD  INTERNALPRIORITY  OUTAGEDURATION  \\\n",
       "TICKETID                                                                  \n",
       "INC1081335     3.0                2.0               3.0        0.000000   \n",
       "INC4082980     3.0               -1.0               3.0        1.933333   \n",
       "INC3348348     3.0               -1.0               3.0       19.616667   \n",
       "INC3099996     3.0               -1.0               3.0        0.000000   \n",
       "INC5100274     2.0               -1.0               3.0        4.100000   \n",
       "...            ...                ...               ...             ...   \n",
       "INC3885835     2.0               -1.0               3.0        0.000000   \n",
       "INC1862632     3.0                2.0               3.0      172.683333   \n",
       "INC1861937     1.0                4.0               1.0        8.116667   \n",
       "INC5169101     3.0               -1.0               3.0        0.000000   \n",
       "INC2704525     2.0               -1.0               3.0      155.716667   \n",
       "\n",
       "            URGENCY  DIAGNOSTICADO  HASACTIVITY  HASLD  INCEXCLUIR  \\\n",
       "TICKETID                                                             \n",
       "INC1081335      3.0              0            0      1           0   \n",
       "INC4082980      3.0              0            0      1           0   \n",
       "INC3348348      3.0              1            1      1           0   \n",
       "INC3099996      3.0              1            1      1           0   \n",
       "INC5100274      3.0              1            0      1           0   \n",
       "...             ...            ...          ...    ...         ...   \n",
       "INC3885835      3.0              1            0      1           0   \n",
       "INC1862632      3.0              1            1      1           0   \n",
       "INC1861937      1.0              0            1      1           0   \n",
       "INC5169101      3.0              1            1      1           0   \n",
       "INC2704525      3.0              0            0      1           1   \n",
       "\n",
       "            INCEXCLUIR_ENLD  INC_ALARMA  MUN100  SRDATOS  SRINTERNET  SRTV  \\\n",
       "TICKETID                                                                     \n",
       "INC1081335                0           0       0        0           0     0   \n",
       "INC4082980                0           0       0        0           0     0   \n",
       "INC3348348                0           0       0        0           1     0   \n",
       "INC3099996                0           1       0        0           0     0   \n",
       "INC5100274                0           0       0        0           0     0   \n",
       "...                     ...         ...     ...      ...         ...   ...   \n",
       "INC3885835                0           0       0        0           0     0   \n",
       "INC1862632                0           0       0        0           1     1   \n",
       "INC1861937                0           0       0        0           1     0   \n",
       "INC5169101                0           0       0        0           0     0   \n",
       "INC2704525                0           1       0        0           0     0   \n",
       "\n",
       "            SRVOZ  HASCHILDREN  USECLASSINDESC  \n",
       "TICKETID                                        \n",
       "INC1081335      0          0.0             1.0  \n",
       "INC4082980      0          0.0             1.0  \n",
       "INC3348348      0          0.0             1.0  \n",
       "INC3099996      0          0.0             1.0  \n",
       "INC5100274      0          0.0             1.0  \n",
       "...           ...          ...             ...  \n",
       "INC3885835      0          0.0             1.0  \n",
       "INC1862632      1          0.0             1.0  \n",
       "INC1861937      1          0.0             1.0  \n",
       "INC5169101      0          0.0             1.0  \n",
       "INC2704525      0          0.0             1.0  \n",
       "\n",
       "[100 rows x 18 columns]"
      ]
     },
     "execution_count": 26,
     "metadata": {},
     "output_type": "execute_result"
    }
   ],
   "source": [
    "df_num_fin=eje_df_independientes[var_num+var_bool]\n",
    "df_num_fin"
   ]
  },
  {
   "cell_type": "code",
   "execution_count": 28,
   "id": "5941a462",
   "metadata": {
    "scrolled": true
   },
   "outputs": [
    {
     "data": {
      "text/html": [
       "<div>\n",
       "<style scoped>\n",
       "    .dataframe tbody tr th:only-of-type {\n",
       "        vertical-align: middle;\n",
       "    }\n",
       "\n",
       "    .dataframe tbody tr th {\n",
       "        vertical-align: top;\n",
       "    }\n",
       "\n",
       "    .dataframe thead th {\n",
       "        text-align: right;\n",
       "    }\n",
       "</style>\n",
       "<table border=\"1\" class=\"dataframe\">\n",
       "  <thead>\n",
       "    <tr style=\"text-align: right;\">\n",
       "      <th></th>\n",
       "      <th>ASSIGNEDOWNERGROUP</th>\n",
       "      <th>CL_C_TIPO</th>\n",
       "      <th>CL_SERVICIO</th>\n",
       "      <th>CL_SER_AFEC</th>\n",
       "      <th>EXTERNALSYSTEM</th>\n",
       "      <th>FR1CODE</th>\n",
       "      <th>ONCALLOWNERGROUP</th>\n",
       "      <th>ORIGRECORDCLASS</th>\n",
       "      <th>PROBLEMCODE</th>\n",
       "      <th>PROVEEDORES</th>\n",
       "      <th>REGIONAL</th>\n",
       "      <th>TICKET_EXT</th>\n",
       "      <th>TIPOCOMUNICADO</th>\n",
       "      <th>WORKTYPE</th>\n",
       "      <th>FR2CODE</th>\n",
       "      <th>INCSERVICE</th>\n",
       "      <th>CLASSIFICATIONID</th>\n",
       "      <th>DESCRIPCION_TECNICA</th>\n",
       "      <th>INCMESTADO</th>\n",
       "      <th>PERSONGROUP</th>\n",
       "      <th>DESCRIPTION.2</th>\n",
       "    </tr>\n",
       "  </thead>\n",
       "  <tbody>\n",
       "    <tr>\n",
       "      <th>0</th>\n",
       "      <td>NOCBOLSAINC</td>\n",
       "      <td>-1</td>\n",
       "      <td>-1</td>\n",
       "      <td>-1</td>\n",
       "      <td>NETCOOL_CA_FS_II</td>\n",
       "      <td>T_CONEC_CABLES/CONECT</td>\n",
       "      <td>FOSERVICIO</td>\n",
       "      <td>-1</td>\n",
       "      <td>-1</td>\n",
       "      <td>ELECTRICARIBE</td>\n",
       "      <td>COSTA</td>\n",
       "      <td>5801074</td>\n",
       "      <td>-1</td>\n",
       "      <td>CFIBRA</td>\n",
       "      <td>REPAR</td>\n",
       "      <td>-1</td>\n",
       "      <td>CONTINUA</td>\n",
       "      <td>-1</td>\n",
       "      <td>-1</td>\n",
       "      <td>FOACCESO</td>\n",
       "      <td>SERVICIOS MOVILES \\ AFECTACION DE SERVICIO_ACCESO \\ CONTINUA</td>\n",
       "    </tr>\n",
       "    <tr>\n",
       "      <th>1</th>\n",
       "      <td>CUSTCARE</td>\n",
       "      <td>-1</td>\n",
       "      <td>-1</td>\n",
       "      <td>-1</td>\n",
       "      <td>-1</td>\n",
       "      <td>-1</td>\n",
       "      <td>-1</td>\n",
       "      <td>-1</td>\n",
       "      <td>-1</td>\n",
       "      <td>-1</td>\n",
       "      <td>CENTRO ORIENTE</td>\n",
       "      <td>-1</td>\n",
       "      <td>-1</td>\n",
       "      <td>ME</td>\n",
       "      <td>-1</td>\n",
       "      <td>-1</td>\n",
       "      <td>RUTINA</td>\n",
       "      <td>-1</td>\n",
       "      <td>-1</td>\n",
       "      <td>CUSTCARE</td>\n",
       "      <td>SERVICIOS MOVILES \\ PRUEBA \\ RUTINA</td>\n",
       "    </tr>\n",
       "    <tr>\n",
       "      <th>2</th>\n",
       "      <td>CUSTCARE</td>\n",
       "      <td>-1</td>\n",
       "      <td>-1</td>\n",
       "      <td>-1</td>\n",
       "      <td>-1</td>\n",
       "      <td>-1</td>\n",
       "      <td>-1</td>\n",
       "      <td>-1</td>\n",
       "      <td>-1</td>\n",
       "      <td>-1</td>\n",
       "      <td>CENTRO ORIENTE</td>\n",
       "      <td>-1</td>\n",
       "      <td>-1</td>\n",
       "      <td>ME</td>\n",
       "      <td>-1</td>\n",
       "      <td>-1</td>\n",
       "      <td>RUTINA</td>\n",
       "      <td>-1</td>\n",
       "      <td>-1</td>\n",
       "      <td>CUSTCARE</td>\n",
       "      <td>SERVICIOS MOVILES \\ PRUEBA \\ RUTINA</td>\n",
       "    </tr>\n",
       "    <tr>\n",
       "      <th>3</th>\n",
       "      <td>CUSTCARE</td>\n",
       "      <td>-1</td>\n",
       "      <td>-1</td>\n",
       "      <td>-1</td>\n",
       "      <td>-1</td>\n",
       "      <td>-1</td>\n",
       "      <td>-1</td>\n",
       "      <td>-1</td>\n",
       "      <td>-1</td>\n",
       "      <td>-1</td>\n",
       "      <td>CENTRO ORIENTE</td>\n",
       "      <td>-1</td>\n",
       "      <td>-1</td>\n",
       "      <td>ME</td>\n",
       "      <td>-1</td>\n",
       "      <td>-1</td>\n",
       "      <td>RUTINA</td>\n",
       "      <td>-1</td>\n",
       "      <td>-1</td>\n",
       "      <td>CUSTCARE</td>\n",
       "      <td>SERVICIOS MOVILES \\ PRUEBA \\ RUTINA</td>\n",
       "    </tr>\n",
       "    <tr>\n",
       "      <th>4</th>\n",
       "      <td>FOPERFORMANCE</td>\n",
       "      <td>-1</td>\n",
       "      <td>-1</td>\n",
       "      <td>-1</td>\n",
       "      <td>-1</td>\n",
       "      <td>-1</td>\n",
       "      <td>-1</td>\n",
       "      <td>-1</td>\n",
       "      <td>-1</td>\n",
       "      <td>-1</td>\n",
       "      <td>CENTRO ORIENTE</td>\n",
       "      <td>-1</td>\n",
       "      <td>-1</td>\n",
       "      <td>ME</td>\n",
       "      <td>-1</td>\n",
       "      <td>-1</td>\n",
       "      <td>PERFORMANCE/CALIDAD/DEGRADACION</td>\n",
       "      <td>-1</td>\n",
       "      <td>-1</td>\n",
       "      <td>FOPERFORMANCE</td>\n",
       "      <td>SERVICIOS MOVILES \\ PERFORMANCE/CALIDAD/DEGRADACION</td>\n",
       "    </tr>\n",
       "    <tr>\n",
       "      <th>...</th>\n",
       "      <td>...</td>\n",
       "      <td>...</td>\n",
       "      <td>...</td>\n",
       "      <td>...</td>\n",
       "      <td>...</td>\n",
       "      <td>...</td>\n",
       "      <td>...</td>\n",
       "      <td>...</td>\n",
       "      <td>...</td>\n",
       "      <td>...</td>\n",
       "      <td>...</td>\n",
       "      <td>...</td>\n",
       "      <td>...</td>\n",
       "      <td>...</td>\n",
       "      <td>...</td>\n",
       "      <td>...</td>\n",
       "      <td>...</td>\n",
       "      <td>...</td>\n",
       "      <td>...</td>\n",
       "      <td>...</td>\n",
       "      <td>...</td>\n",
       "    </tr>\n",
       "    <tr>\n",
       "      <th>1519010</th>\n",
       "      <td>CUSTCARE</td>\n",
       "      <td>-1</td>\n",
       "      <td>-1</td>\n",
       "      <td>-1</td>\n",
       "      <td>-1</td>\n",
       "      <td>PRUEBA_RUTINA</td>\n",
       "      <td>CUSTCARE</td>\n",
       "      <td>-1</td>\n",
       "      <td>PRUEBA_DATOS</td>\n",
       "      <td>-1</td>\n",
       "      <td>CENTRO ORIENTE</td>\n",
       "      <td>-1</td>\n",
       "      <td>-1</td>\n",
       "      <td>-1</td>\n",
       "      <td>PRUEBA_EX</td>\n",
       "      <td>-1</td>\n",
       "      <td>RUTINA</td>\n",
       "      <td>-1</td>\n",
       "      <td>-1</td>\n",
       "      <td>CUSTCARE</td>\n",
       "      <td>SERVICIOS MOVILES \\ PRUEBA \\ RUTINA</td>\n",
       "    </tr>\n",
       "    <tr>\n",
       "      <th>1519011</th>\n",
       "      <td>FO_SDH</td>\n",
       "      <td>-1</td>\n",
       "      <td>-1</td>\n",
       "      <td>-1</td>\n",
       "      <td>-1</td>\n",
       "      <td>-1</td>\n",
       "      <td>FO_SDH</td>\n",
       "      <td>-1</td>\n",
       "      <td>-1</td>\n",
       "      <td>-1</td>\n",
       "      <td>OCCIDENTE</td>\n",
       "      <td>-1</td>\n",
       "      <td>-1</td>\n",
       "      <td>-1</td>\n",
       "      <td>-1</td>\n",
       "      <td>-1</td>\n",
       "      <td>NOTIFICACION/SIN AFECTACION</td>\n",
       "      <td>-1</td>\n",
       "      <td>-1</td>\n",
       "      <td>FO_SDH</td>\n",
       "      <td>SERVICIOS MOVILES \\ TRANSMISION OPTICA \\ SERVICIO VULNERABLE \\ NOTIFICACION/SIN AFECTACION</td>\n",
       "    </tr>\n",
       "    <tr>\n",
       "      <th>1519012</th>\n",
       "      <td>FOGESTINTERMITENCIAS</td>\n",
       "      <td>-1</td>\n",
       "      <td>-1</td>\n",
       "      <td>-1</td>\n",
       "      <td>COR48_BL_USR</td>\n",
       "      <td>A_CEL_HW</td>\n",
       "      <td>-1</td>\n",
       "      <td>-1</td>\n",
       "      <td>SIT_PARC_3G</td>\n",
       "      <td>-1</td>\n",
       "      <td>OCCIDENTE</td>\n",
       "      <td>-1</td>\n",
       "      <td>-1</td>\n",
       "      <td>-1</td>\n",
       "      <td>-1</td>\n",
       "      <td>BLOQUEO</td>\n",
       "      <td>PERDIDA DE GESTION</td>\n",
       "      <td>-1</td>\n",
       "      <td>-1</td>\n",
       "      <td>FRONTOFFICE</td>\n",
       "      <td>SERVICIOS MOVILES \\ NOTIFICACION/POSIBLE AFECTACION/SIN AFECTACION \\ PERDIDA DE GESTION</td>\n",
       "    </tr>\n",
       "    <tr>\n",
       "      <th>1519013</th>\n",
       "      <td>CUSCARSO</td>\n",
       "      <td>-1</td>\n",
       "      <td>-1</td>\n",
       "      <td>-1</td>\n",
       "      <td>-1</td>\n",
       "      <td>SON_CRC_FALLHWEB</td>\n",
       "      <td>CUSCARSO</td>\n",
       "      <td>-1</td>\n",
       "      <td>SON_CRC_EBFDS</td>\n",
       "      <td>-1</td>\n",
       "      <td>-1</td>\n",
       "      <td>-1</td>\n",
       "      <td>-1</td>\n",
       "      <td>-1</td>\n",
       "      <td>SON_CRC_REEMPLZEQ</td>\n",
       "      <td>-1</td>\n",
       "      <td>CRC</td>\n",
       "      <td>-1</td>\n",
       "      <td>-1</td>\n",
       "      <td>CUSCARSO</td>\n",
       "      <td>SERVICIOS MOVILES \\ SONDA \\ CRC</td>\n",
       "    </tr>\n",
       "    <tr>\n",
       "      <th>1519014</th>\n",
       "      <td>FRONTOFFICE</td>\n",
       "      <td>-1</td>\n",
       "      <td>-1</td>\n",
       "      <td>-1</td>\n",
       "      <td>-1</td>\n",
       "      <td>FALLA_ENER_COM_CERT_ALARMAS</td>\n",
       "      <td>FRONTOFFICE</td>\n",
       "      <td>-1</td>\n",
       "      <td>NOT_ENERGIA</td>\n",
       "      <td>-1</td>\n",
       "      <td>CENTRO ORIENTE</td>\n",
       "      <td>-1</td>\n",
       "      <td>-1</td>\n",
       "      <td>-1</td>\n",
       "      <td>CERT_ALARMAS</td>\n",
       "      <td>-1</td>\n",
       "      <td>GESTION DE PLATAFORMAS ELECTROMECANICAS</td>\n",
       "      <td>-1</td>\n",
       "      <td>-1</td>\n",
       "      <td>FRONTOFFICE</td>\n",
       "      <td>SERVICIOS MOVILES \\ NOTIFICACION/POSIBLE AFECTACION/SIN AFECTACION \\ GESTION DE PLATAFORMAS ELECTROMECANICAS</td>\n",
       "    </tr>\n",
       "  </tbody>\n",
       "</table>\n",
       "<p>1519015 rows × 21 columns</p>\n",
       "</div>"
      ],
      "text/plain": [
       "           ASSIGNEDOWNERGROUP CL_C_TIPO CL_SERVICIO CL_SER_AFEC  \\\n",
       "0                 NOCBOLSAINC        -1          -1          -1   \n",
       "1                    CUSTCARE        -1          -1          -1   \n",
       "2                    CUSTCARE        -1          -1          -1   \n",
       "3                    CUSTCARE        -1          -1          -1   \n",
       "4               FOPERFORMANCE        -1          -1          -1   \n",
       "...                       ...       ...         ...         ...   \n",
       "1519010              CUSTCARE        -1          -1          -1   \n",
       "1519011                FO_SDH        -1          -1          -1   \n",
       "1519012  FOGESTINTERMITENCIAS        -1          -1          -1   \n",
       "1519013              CUSCARSO        -1          -1          -1   \n",
       "1519014           FRONTOFFICE        -1          -1          -1   \n",
       "\n",
       "           EXTERNALSYSTEM                      FR1CODE ONCALLOWNERGROUP  \\\n",
       "0        NETCOOL_CA_FS_II        T_CONEC_CABLES/CONECT       FOSERVICIO   \n",
       "1                      -1                           -1               -1   \n",
       "2                      -1                           -1               -1   \n",
       "3                      -1                           -1               -1   \n",
       "4                      -1                           -1               -1   \n",
       "...                   ...                          ...              ...   \n",
       "1519010                -1                PRUEBA_RUTINA         CUSTCARE   \n",
       "1519011                -1                           -1           FO_SDH   \n",
       "1519012      COR48_BL_USR                     A_CEL_HW               -1   \n",
       "1519013                -1             SON_CRC_FALLHWEB         CUSCARSO   \n",
       "1519014                -1  FALLA_ENER_COM_CERT_ALARMAS      FRONTOFFICE   \n",
       "\n",
       "        ORIGRECORDCLASS    PROBLEMCODE    PROVEEDORES        REGIONAL  \\\n",
       "0                    -1             -1  ELECTRICARIBE           COSTA   \n",
       "1                    -1             -1             -1  CENTRO ORIENTE   \n",
       "2                    -1             -1             -1  CENTRO ORIENTE   \n",
       "3                    -1             -1             -1  CENTRO ORIENTE   \n",
       "4                    -1             -1             -1  CENTRO ORIENTE   \n",
       "...                 ...            ...            ...             ...   \n",
       "1519010              -1   PRUEBA_DATOS             -1  CENTRO ORIENTE   \n",
       "1519011              -1             -1             -1       OCCIDENTE   \n",
       "1519012              -1    SIT_PARC_3G             -1       OCCIDENTE   \n",
       "1519013              -1  SON_CRC_EBFDS             -1              -1   \n",
       "1519014              -1    NOT_ENERGIA             -1  CENTRO ORIENTE   \n",
       "\n",
       "        TICKET_EXT TIPOCOMUNICADO WORKTYPE            FR2CODE INCSERVICE  \\\n",
       "0          5801074             -1   CFIBRA              REPAR         -1   \n",
       "1               -1             -1       ME                 -1         -1   \n",
       "2               -1             -1       ME                 -1         -1   \n",
       "3               -1             -1       ME                 -1         -1   \n",
       "4               -1             -1       ME                 -1         -1   \n",
       "...            ...            ...      ...                ...        ...   \n",
       "1519010         -1             -1       -1          PRUEBA_EX         -1   \n",
       "1519011         -1             -1       -1                 -1         -1   \n",
       "1519012         -1             -1       -1                 -1    BLOQUEO   \n",
       "1519013         -1             -1       -1  SON_CRC_REEMPLZEQ         -1   \n",
       "1519014         -1             -1       -1       CERT_ALARMAS         -1   \n",
       "\n",
       "                                CLASSIFICATIONID DESCRIPCION_TECNICA  \\\n",
       "0                                       CONTINUA                  -1   \n",
       "1                                         RUTINA                  -1   \n",
       "2                                         RUTINA                  -1   \n",
       "3                                         RUTINA                  -1   \n",
       "4                PERFORMANCE/CALIDAD/DEGRADACION                  -1   \n",
       "...                                          ...                 ...   \n",
       "1519010                                   RUTINA                  -1   \n",
       "1519011              NOTIFICACION/SIN AFECTACION                  -1   \n",
       "1519012                       PERDIDA DE GESTION                  -1   \n",
       "1519013                                      CRC                  -1   \n",
       "1519014  GESTION DE PLATAFORMAS ELECTROMECANICAS                  -1   \n",
       "\n",
       "        INCMESTADO    PERSONGROUP  \\\n",
       "0               -1       FOACCESO   \n",
       "1               -1       CUSTCARE   \n",
       "2               -1       CUSTCARE   \n",
       "3               -1       CUSTCARE   \n",
       "4               -1  FOPERFORMANCE   \n",
       "...            ...            ...   \n",
       "1519010         -1       CUSTCARE   \n",
       "1519011         -1         FO_SDH   \n",
       "1519012         -1    FRONTOFFICE   \n",
       "1519013         -1       CUSCARSO   \n",
       "1519014         -1    FRONTOFFICE   \n",
       "\n",
       "                                                                                                        DESCRIPTION.2  \n",
       "0                                                        SERVICIOS MOVILES \\ AFECTACION DE SERVICIO_ACCESO \\ CONTINUA  \n",
       "1                                                                                 SERVICIOS MOVILES \\ PRUEBA \\ RUTINA  \n",
       "2                                                                                 SERVICIOS MOVILES \\ PRUEBA \\ RUTINA  \n",
       "3                                                                                 SERVICIOS MOVILES \\ PRUEBA \\ RUTINA  \n",
       "4                                                                 SERVICIOS MOVILES \\ PERFORMANCE/CALIDAD/DEGRADACION  \n",
       "...                                                                                                               ...  \n",
       "1519010                                                                           SERVICIOS MOVILES \\ PRUEBA \\ RUTINA  \n",
       "1519011                    SERVICIOS MOVILES \\ TRANSMISION OPTICA \\ SERVICIO VULNERABLE \\ NOTIFICACION/SIN AFECTACION  \n",
       "1519012                       SERVICIOS MOVILES \\ NOTIFICACION/POSIBLE AFECTACION/SIN AFECTACION \\ PERDIDA DE GESTION  \n",
       "1519013                                                                               SERVICIOS MOVILES \\ SONDA \\ CRC  \n",
       "1519014  SERVICIOS MOVILES \\ NOTIFICACION/POSIBLE AFECTACION/SIN AFECTACION \\ GESTION DE PLATAFORMAS ELECTROMECANICAS  \n",
       "\n",
       "[1519015 rows x 21 columns]"
      ]
     },
     "execution_count": 28,
     "metadata": {},
     "output_type": "execute_result"
    }
   ],
   "source": [
    "df_cat_fin=df_independientes[var_cat]\n",
    "df_cat_fin"
   ]
  },
  {
   "cell_type": "code",
   "execution_count": null,
   "id": "10e75ce7",
   "metadata": {},
   "outputs": [],
   "source": [
    "for var in var_cat:\n",
    "    df_cat_fin[var]=df_cat_fin[[var]].applymap(str)\n",
    "    df_cat_fin[var]=df_cat_fin[var].apply(lambda x: re.sub('[^A-Za-z0-9_.]+', '_', x))\n",
    "    \n",
    "    #cargar variables principales\n",
    "    \n",
    "    #df_aux=df_cat_fin[var].value_counts().to_frame('num')\n",
    "    #aux_cats=df_aux[df_aux['num']>=num_min_cat].index\n",
    "    #df_cat_fin[var]=np.where(df_cat_fin[var].isin(aux_cats),df_cat_fin[var],'otro')"
   ]
  },
  {
   "cell_type": "code",
   "execution_count": null,
   "id": "840d5b1b",
   "metadata": {},
   "outputs": [],
   "source": [
    "#class_ohe = class_ohe.fit(df_cat_fin[var_cat])\n",
    "class_ohe=load(f\"modeloEntrenado/dic_text.pkl\")"
   ]
  },
  {
   "cell_type": "markdown",
   "id": "1e47add2",
   "metadata": {},
   "source": [
    "# Validación Tablas"
   ]
  },
  {
   "cell_type": "code",
   "execution_count": null,
   "id": "cd2e901e",
   "metadata": {},
   "outputs": [],
   "source": [
    "colTab1=['ASSETSITEID', 'ASSIGNEDOWNERGROUP', 'CHANGEBY', 'CL_C_TIPO','CL_SERVICIO', 'CL_SER_AFEC', 'CREATEDBY', 'DIAGNOSTICADO',\n",
    "'EXTERNALSYSTEM', 'FAILURECODE', 'FR1CODE', 'HASACTIVITY', 'HASLD','IMPACT', 'INCCARGAPRIORIDAD', 'INCEXCLUIR', 'INCEXCLUIR_ENLD',\n",
    "'INC_ALARMA', 'INTERNALPRIORITY', 'MUN100','ONCALLOWNERGROUP', 'ORIGRECORDCLASS', 'OUTAGEDURATION', \n",
    "'PROBLEMCODE', 'PROVEEDORES', 'REGIONAL', 'SRDATOS', 'SRINTERNET','SRTV', 'SRVOZ', 'TICKETID', 'TICKET_EXT', 'TIPOCOMUNICADO', 'URGENCY',\n",
    "'WORKTYPE', 'FR2CODE', 'INCSERVICE','CLASSIFICATIONID', 'CL_C_DESC_AFECTACION', 'CL_INC_IMPACTO',\n",
    "'C_CL_AFECTA', 'DESCRIPCION_TECNICA', 'DESCRIPTION', 'INCMCANCEL','INCMESTADO', 'INCMEXCLUSION', 'INCSOLUCION']"
   ]
  },
  {
   "cell_type": "markdown",
   "id": "8bdbe0e6",
   "metadata": {},
   "source": [
    "## Validación tabla relacionada 1\n",
    "## FailureCode"
   ]
  },
  {
   "cell_type": "code",
   "execution_count": null,
   "id": "4d488940",
   "metadata": {
    "scrolled": true
   },
   "outputs": [],
   "source": [
    "df_independientes[df_independientes.columns[51:60]]"
   ]
  },
  {
   "cell_type": "code",
   "execution_count": null,
   "id": "92ee0875",
   "metadata": {},
   "outputs": [],
   "source": [
    "df_independientes[df_independientes.columns[51:60]]['FAILURECODE.1'].value_counts()"
   ]
  },
  {
   "cell_type": "code",
   "execution_count": null,
   "id": "8a31a64d",
   "metadata": {},
   "outputs": [],
   "source": [
    "df_independientes[df_independientes.columns[51:60]]['DESCRIPTION.1'].value_counts()"
   ]
  },
  {
   "cell_type": "code",
   "execution_count": null,
   "id": "d06d7284",
   "metadata": {},
   "outputs": [],
   "source": [
    "# validar nulos"
   ]
  },
  {
   "cell_type": "code",
   "execution_count": null,
   "id": "6313fd2c",
   "metadata": {},
   "outputs": [],
   "source": [
    "len(df_independientes[df_independientes['FAILURECODE.1'].isnull()])"
   ]
  },
  {
   "cell_type": "markdown",
   "id": "4becd7df",
   "metadata": {},
   "source": [
    "## Validación tabla relacionada 2\n",
    "## CLASSSTRUCTUREID"
   ]
  },
  {
   "cell_type": "code",
   "execution_count": null,
   "id": "976b19fa",
   "metadata": {},
   "outputs": [],
   "source": [
    "df_independientes.columns[59:91]"
   ]
  },
  {
   "cell_type": "code",
   "execution_count": null,
   "id": "0cafa1b2",
   "metadata": {
    "scrolled": true
   },
   "outputs": [],
   "source": [
    "df_independientes[df_independientes.columns[59:91]]"
   ]
  },
  {
   "cell_type": "code",
   "execution_count": null,
   "id": "d2441a76",
   "metadata": {},
   "outputs": [],
   "source": [
    "df_independientes[df_independientes.columns[59:91]].columns"
   ]
  },
  {
   "cell_type": "code",
   "execution_count": null,
   "id": "a9d5b0f5",
   "metadata": {},
   "outputs": [],
   "source": [
    "df_independientes[df_independientes.columns[59:91]]['USECLASSINDESC'].value_counts()\n",
    "#opcionada"
   ]
  },
  {
   "cell_type": "code",
   "execution_count": null,
   "id": "72606f22",
   "metadata": {},
   "outputs": [],
   "source": [
    "df_independientes[df_independientes.columns[59:91]]['HASCHILDREN'].value_counts()\n",
    "#opcionada"
   ]
  },
  {
   "cell_type": "code",
   "execution_count": null,
   "id": "e91a3039",
   "metadata": {
    "scrolled": true
   },
   "outputs": [],
   "source": [
    "df_independientes[df_independientes.columns[59:91]]['PERSONGROUP'].value_counts()\n",
    "#validar"
   ]
  },
  {
   "cell_type": "markdown",
   "id": "9030ee7a",
   "metadata": {},
   "source": [
    "##### Preselección variables"
   ]
  },
  {
   "cell_type": "code",
   "execution_count": null,
   "id": "ad3628f1",
   "metadata": {},
   "outputs": [],
   "source": [
    "colTab2=['PERSONGROUP','HASCHILDREN','USECLASSINDESC','DESCRIPTION.2']"
   ]
  },
  {
   "cell_type": "code",
   "execution_count": null,
   "id": "92c016d0",
   "metadata": {},
   "outputs": [],
   "source": [
    "df_independientes[colTab2]"
   ]
  },
  {
   "cell_type": "markdown",
   "id": "6618faca",
   "metadata": {},
   "source": [
    "### Revisión,  tabla 3"
   ]
  },
  {
   "cell_type": "code",
   "execution_count": null,
   "id": "a9c56f1a",
   "metadata": {},
   "outputs": [],
   "source": [
    "df_independientes[df_independientes.columns[90:98]]"
   ]
  },
  {
   "cell_type": "code",
   "execution_count": null,
   "id": "fa3f9c2e",
   "metadata": {},
   "outputs": [],
   "source": [
    "df_independientes[df_independientes.columns[90:98]].columns"
   ]
  },
  {
   "cell_type": "code",
   "execution_count": null,
   "id": "5e666598",
   "metadata": {},
   "outputs": [],
   "source": [
    "df_independientes[df_independientes.columns[90:98]]['DESCRIPTION.3'].value_counts()"
   ]
  },
  {
   "cell_type": "code",
   "execution_count": null,
   "id": "6e756fdc",
   "metadata": {},
   "outputs": [],
   "source": [
    "coltab3=['CLASSIFICATIONID.2', 'DESCRIPTION.3']"
   ]
  },
  {
   "cell_type": "markdown",
   "id": "9f38daa5",
   "metadata": {},
   "source": [
    "# observaciones\n",
    "* traer del script anterior\n",
    "* idioma LANGCODE, no aplica"
   ]
  },
  {
   "cell_type": "markdown",
   "id": "827b59c8",
   "metadata": {},
   "source": [
    "### Clasificación variables seleccionadas"
   ]
  },
  {
   "cell_type": "code",
   "execution_count": null,
   "id": "fbeb0f2c",
   "metadata": {},
   "outputs": [],
   "source": [
    "var_num=['IMPACT','INCCARGAPRIORIDAD','INTERNALPRIORITY','OUTAGEDURATION','URGENCY']\n",
    "var_texto=['CL_C_DESC_AFECTACION','C_CL_AFECTA','DESCRIPTION','INCMEXCLUSION','INCSOLUCION']\n",
    "#var_texto_desc=['CL_INC_IMPACTO','INCMCANCEL']\n",
    "var_bool=['DIAGNOSTICADO','HASACTIVITY','HASLD','INCEXCLUIR','INCEXCLUIR_ENLD','INC_ALARMA','MUN100','SRDATOS','SRINTERNET','SRTV','SRVOZ',\n",
    "         #tab2\n",
    "         'HASCHILDREN','USECLASSINDESC'\n",
    "         ]\n",
    "var_cat=['ASSIGNEDOWNERGROUP','CL_C_TIPO','CL_SERVICIO','CL_SER_AFEC','EXTERNALSYSTEM','FR1CODE','ONCALLOWNERGROUP','ORIGRECORDCLASS','PROBLEMCODE','PROVEEDORES','REGIONAL','TICKET_EXT',\n",
    "        'TIPOCOMUNICADO','WORKTYPE','FR2CODE','INCSERVICE','CLASSIFICATIONID','DESCRIPCION_TECNICA','INCMESTADO',\n",
    "        #tab2\n",
    "         'PERSONGROUP','DESCRIPTION.2'\n",
    "        ]\n",
    "#var_excluir=['ASSETSITEID','CHANGEBY','CREATEDBY']\n",
    "var_etiqueta=['FAILURECODE','TICKETID']"
   ]
  },
  {
   "cell_type": "code",
   "execution_count": null,
   "id": "3422d49c",
   "metadata": {},
   "outputs": [],
   "source": [
    "len(colTab1)"
   ]
  },
  {
   "cell_type": "code",
   "execution_count": null,
   "id": "3c330b6a",
   "metadata": {},
   "outputs": [],
   "source": [
    "len(var_num+var_texto+var_bool+var_cat+var_etiqueta)"
   ]
  },
  {
   "cell_type": "markdown",
   "id": "12608a60",
   "metadata": {},
   "source": [
    "# Analisis de etiquetas\n",
    "* para determinar el manejo de categoricas"
   ]
  },
  {
   "cell_type": "code",
   "execution_count": null,
   "id": "fb31592d",
   "metadata": {},
   "outputs": [],
   "source": [
    "df_independientes['FAILURECODE'].value_counts()"
   ]
  },
  {
   "cell_type": "code",
   "execution_count": null,
   "id": "07330118",
   "metadata": {},
   "outputs": [],
   "source": [
    "df_independientes['FAILURECODE'].value_counts().to_frame().boxplot()"
   ]
  },
  {
   "cell_type": "code",
   "execution_count": null,
   "id": "86427c47",
   "metadata": {},
   "outputs": [],
   "source": [
    "df_independientes['FAILURECODE'].value_counts().to_frame().describe()"
   ]
  },
  {
   "cell_type": "code",
   "execution_count": null,
   "id": "f8d16ec5",
   "metadata": {},
   "outputs": [],
   "source": [
    "#opcion clasificar para más de 100 casos"
   ]
  },
  {
   "cell_type": "code",
   "execution_count": null,
   "id": "6833656a",
   "metadata": {},
   "outputs": [],
   "source": [
    "et_failurecode=df_independientes['FAILURECODE'].value_counts().to_frame()"
   ]
  },
  {
   "cell_type": "code",
   "execution_count": null,
   "id": "9efa2b93",
   "metadata": {},
   "outputs": [],
   "source": [
    "len(et_failurecode[et_failurecode['FAILURECODE']>=100])"
   ]
  },
  {
   "cell_type": "code",
   "execution_count": null,
   "id": "5c201679",
   "metadata": {},
   "outputs": [],
   "source": [
    "len(et_failurecode[et_failurecode['FAILURECODE']<100])"
   ]
  },
  {
   "cell_type": "code",
   "execution_count": null,
   "id": "1412f761",
   "metadata": {},
   "outputs": [],
   "source": [
    "et_failurecode"
   ]
  },
  {
   "cell_type": "code",
   "execution_count": null,
   "id": "da77e57f",
   "metadata": {},
   "outputs": [],
   "source": [
    "et_failurecodeV2=df_dependientes[['TICKETID','FAILURECODE.1']].drop_duplicates()"
   ]
  },
  {
   "cell_type": "code",
   "execution_count": null,
   "id": "6502ad12",
   "metadata": {},
   "outputs": [],
   "source": [
    "et_failurecodeV2=et_failurecodeV2['FAILURECODE.1'].value_counts().to_frame()"
   ]
  },
  {
   "cell_type": "code",
   "execution_count": null,
   "id": "1e7237fb",
   "metadata": {},
   "outputs": [],
   "source": [
    "et_failurecodeV2"
   ]
  },
  {
   "cell_type": "code",
   "execution_count": null,
   "id": "70edf770",
   "metadata": {},
   "outputs": [],
   "source": [
    "len(et_failurecodeV2[et_failurecodeV2['FAILURECODE.1']>=100])"
   ]
  },
  {
   "cell_type": "code",
   "execution_count": null,
   "id": "6d5d333d",
   "metadata": {},
   "outputs": [],
   "source": [
    "len(et_failurecodeV2[et_failurecodeV2['FAILURECODE.1']<100])"
   ]
  },
  {
   "cell_type": "markdown",
   "id": "ec11f581",
   "metadata": {},
   "source": [
    "## PROBLEM"
   ]
  },
  {
   "cell_type": "code",
   "execution_count": null,
   "id": "612a1e19",
   "metadata": {},
   "outputs": [],
   "source": [
    "df_dependientes"
   ]
  },
  {
   "cell_type": "code",
   "execution_count": null,
   "id": "e9b4468c",
   "metadata": {},
   "outputs": [],
   "source": [
    "et_problemV2=df_dependientes[df_dependientes['TYPE']=='PROBLEM']['FAILURECODE'].value_counts().to_frame()\n",
    "et_problemV2"
   ]
  },
  {
   "cell_type": "code",
   "execution_count": null,
   "id": "48cd5357",
   "metadata": {},
   "outputs": [],
   "source": [
    "et_problemV2['FAILURECODE'].value_counts().to_frame().boxplot()"
   ]
  },
  {
   "cell_type": "code",
   "execution_count": null,
   "id": "910889a8",
   "metadata": {},
   "outputs": [],
   "source": [
    "df_dependientes[df_dependientes['TYPE']=='PROBLEM']['FAILURECODE'].value_counts().to_frame('NUM').describe()"
   ]
  },
  {
   "cell_type": "code",
   "execution_count": null,
   "id": "1d38be69",
   "metadata": {},
   "outputs": [],
   "source": [
    "len(et_problemV2[et_problemV2['FAILURECODE']>=100])"
   ]
  },
  {
   "cell_type": "code",
   "execution_count": null,
   "id": "a5617ba3",
   "metadata": {},
   "outputs": [],
   "source": [
    "len(et_problemV2[et_problemV2['FAILURECODE']<100])"
   ]
  },
  {
   "cell_type": "code",
   "execution_count": null,
   "id": "986e9705",
   "metadata": {},
   "outputs": [],
   "source": [
    "## Etiquetas sin ejemplos se unifican\n",
    "# se pueden clasificar o agrupar las etiquetas?  esto puede mejorar los resultados y luego hacer zoom con otros modelos\n",
    "# 100 es un parámetro también del modelo"
   ]
  },
  {
   "cell_type": "markdown",
   "id": "ad7af7d1",
   "metadata": {},
   "source": [
    "## CAUSE"
   ]
  },
  {
   "cell_type": "code",
   "execution_count": null,
   "id": "b465dead",
   "metadata": {},
   "outputs": [],
   "source": [
    "et_causaV2=df_dependientes[df_dependientes['TYPE']=='CAUSE']['FAILURECODE'].value_counts().to_frame()\n",
    "et_causaV2"
   ]
  },
  {
   "cell_type": "code",
   "execution_count": null,
   "id": "8e8eb428",
   "metadata": {},
   "outputs": [],
   "source": [
    "et_causaV2['FAILURECODE'].value_counts().to_frame().boxplot()"
   ]
  },
  {
   "cell_type": "code",
   "execution_count": null,
   "id": "425cbb05",
   "metadata": {},
   "outputs": [],
   "source": [
    "df_dependientes[df_dependientes['TYPE']=='CAUSE']['FAILURECODE'].value_counts().to_frame('NUM').describe()"
   ]
  },
  {
   "cell_type": "code",
   "execution_count": null,
   "id": "771a4ee1",
   "metadata": {},
   "outputs": [],
   "source": [
    "len(et_causaV2[et_causaV2['FAILURECODE']>=300])"
   ]
  },
  {
   "cell_type": "code",
   "execution_count": null,
   "id": "85250d8a",
   "metadata": {},
   "outputs": [],
   "source": [
    "len(et_causaV2[et_causaV2['FAILURECODE']<=100])"
   ]
  },
  {
   "cell_type": "markdown",
   "id": "033a3f98",
   "metadata": {},
   "source": [
    "## Remedy"
   ]
  },
  {
   "cell_type": "code",
   "execution_count": null,
   "id": "f462a460",
   "metadata": {},
   "outputs": [],
   "source": [
    "et_remedyV2=df_dependientes[df_dependientes['TYPE']=='REMEDY']['FAILURECODE'].value_counts().to_frame()\n",
    "et_remedyV2"
   ]
  },
  {
   "cell_type": "code",
   "execution_count": null,
   "id": "8cd8ad87",
   "metadata": {},
   "outputs": [],
   "source": [
    "et_remedyV2['FAILURECODE'].value_counts().to_frame().boxplot()"
   ]
  },
  {
   "cell_type": "code",
   "execution_count": null,
   "id": "98295afa",
   "metadata": {},
   "outputs": [],
   "source": [
    "df_dependientes[df_dependientes['TYPE']=='REMEDY']['FAILURECODE'].value_counts().to_frame('NUM').describe()"
   ]
  },
  {
   "cell_type": "code",
   "execution_count": null,
   "id": "55235c52",
   "metadata": {},
   "outputs": [],
   "source": [
    "len(et_remedyV2[et_remedyV2['FAILURECODE']>=100])"
   ]
  },
  {
   "cell_type": "code",
   "execution_count": null,
   "id": "a7b9b5ce",
   "metadata": {},
   "outputs": [],
   "source": [
    "len(et_remedyV2[et_remedyV2['FAILURECODE']<100])"
   ]
  },
  {
   "cell_type": "markdown",
   "id": "9c3e88fd",
   "metadata": {},
   "source": [
    "#### Generación tabla etiquetas"
   ]
  },
  {
   "cell_type": "code",
   "execution_count": null,
   "id": "b37c50ad",
   "metadata": {},
   "outputs": [],
   "source": [
    "p_ejem_et=100"
   ]
  },
  {
   "cell_type": "code",
   "execution_count": null,
   "id": "44d8c296",
   "metadata": {},
   "outputs": [],
   "source": [
    "et_fc=df_dependientes[['TICKETID','FAILURECODE.1']].drop_duplicates()\n",
    "et_fc.columns=['TICKETID','FAILURECODE']\n",
    "et_fc"
   ]
  },
  {
   "cell_type": "code",
   "execution_count": null,
   "id": "69816893",
   "metadata": {},
   "outputs": [],
   "source": [
    "et_fc['FAILURECODE']=np.where(et_fc['FAILURECODE'].isnull(),et_fc['FAILURECODE'],np.where(et_fc['FAILURECODE'].isin(et_failurecodeV2[et_failurecodeV2['FAILURECODE.1']>=p_ejem_et].index),et_fc['FAILURECODE'], 'OTRO'))\n",
    "et_fc                              "
   ]
  },
  {
   "cell_type": "code",
   "execution_count": null,
   "id": "5a01eb1a",
   "metadata": {
    "scrolled": true
   },
   "outputs": [],
   "source": [
    "et_fc[['FAILURECODE']].value_counts()"
   ]
  },
  {
   "cell_type": "code",
   "execution_count": null,
   "id": "a6e2bbbe",
   "metadata": {},
   "outputs": [],
   "source": [
    "et_rem=df_dependientes[df_dependientes['TYPE']=='REMEDY'][['TICKETID','FAILURECODE']]\n",
    "et_rem.columns=['TICKETID','REMEDY']\n",
    "et_rem"
   ]
  },
  {
   "cell_type": "code",
   "execution_count": null,
   "id": "a7e4de05",
   "metadata": {},
   "outputs": [],
   "source": [
    "et_rem['REMEDY']=np.where( et_rem['REMEDY'].isnull(), et_rem['REMEDY'], np.where(et_rem['REMEDY'].isin(et_remedyV2[et_remedyV2['FAILURECODE']>=p_ejem_et].index),et_rem['REMEDY'], 'OTRO'))\n",
    "et_rem"
   ]
  },
  {
   "cell_type": "code",
   "execution_count": null,
   "id": "133ea4d8",
   "metadata": {},
   "outputs": [],
   "source": [
    "et_rem[['REMEDY']].value_counts()"
   ]
  },
  {
   "cell_type": "code",
   "execution_count": null,
   "id": "5a6b81ba",
   "metadata": {},
   "outputs": [],
   "source": [
    "et_cau=df_dependientes[df_dependientes['TYPE']=='CAUSE'][['TICKETID','FAILURECODE']]\n",
    "et_cau.columns=['TICKETID','CAUSE']\n",
    "et_cau"
   ]
  },
  {
   "cell_type": "code",
   "execution_count": null,
   "id": "a3d2f9c9",
   "metadata": {},
   "outputs": [],
   "source": [
    "et_cau['CAUSE']=np.where(et_cau['CAUSE'].isnull(),et_cau['CAUSE'], np.where(et_cau['CAUSE'].isin(et_causaV2[et_causaV2['FAILURECODE']>=p_ejem_et].index),et_cau['CAUSE'], 'OTRO'))\n",
    "et_cau"
   ]
  },
  {
   "cell_type": "code",
   "execution_count": null,
   "id": "4a2d7262",
   "metadata": {},
   "outputs": [],
   "source": [
    "et_cau[['REMEDY']].value_counts()"
   ]
  },
  {
   "cell_type": "code",
   "execution_count": null,
   "id": "4f9dd536",
   "metadata": {},
   "outputs": [],
   "source": [
    "et_prob=df_dependientes[df_dependientes['TYPE']=='PROBLEM'][['TICKETID','FAILURECODE']]\n",
    "et_prob.columns=['TICKETID','PROBLEM']\n",
    "et_prob"
   ]
  },
  {
   "cell_type": "code",
   "execution_count": null,
   "id": "5d7a3fe3",
   "metadata": {},
   "outputs": [],
   "source": [
    "et_prob['PROBLEM']=np.where(et_prob['PROBLEM'].isnull(),et_prob['PROBLEM'], np.where(et_prob['PROBLEM'].isin(et_problemV2[et_problemV2['FAILURECODE']>=p_ejem_et].index),et_prob['PROBLEM'], 'OTRO'))\n",
    "et_prob"
   ]
  },
  {
   "cell_type": "code",
   "execution_count": null,
   "id": "545cc37d",
   "metadata": {},
   "outputs": [],
   "source": [
    "et_prob[['PROBLEM']].value_counts()"
   ]
  },
  {
   "cell_type": "code",
   "execution_count": null,
   "id": "0740188f",
   "metadata": {},
   "outputs": [],
   "source": [
    "et_base=et_fc.merge(et_rem, on='TICKETID', how='left')\n",
    "et_base=et_base.merge(et_cau, on='TICKETID', how='left')\n",
    "et_base=et_base.merge(et_prob, on='TICKETID', how='left')"
   ]
  },
  {
   "cell_type": "code",
   "execution_count": null,
   "id": "cfe63ff2",
   "metadata": {},
   "outputs": [],
   "source": [
    "et_base"
   ]
  },
  {
   "cell_type": "markdown",
   "id": "92f0fa7e",
   "metadata": {},
   "source": [
    "# Procesamiento dataSet"
   ]
  },
  {
   "cell_type": "code",
   "execution_count": null,
   "id": "c4037b4b",
   "metadata": {},
   "outputs": [],
   "source": [
    "df_independientes.set_index('TICKETID',inplace=True)"
   ]
  },
  {
   "cell_type": "code",
   "execution_count": null,
   "id": "9ad0d4aa",
   "metadata": {},
   "outputs": [],
   "source": [
    "df_independientes.fillna(-1,inplace=True)"
   ]
  },
  {
   "cell_type": "code",
   "execution_count": null,
   "id": "1c654281",
   "metadata": {
    "scrolled": true
   },
   "outputs": [],
   "source": [
    "df_independientes"
   ]
  },
  {
   "cell_type": "code",
   "execution_count": null,
   "id": "e7fb602f",
   "metadata": {},
   "outputs": [],
   "source": [
    "var_num"
   ]
  },
  {
   "cell_type": "code",
   "execution_count": null,
   "id": "7e92161e",
   "metadata": {},
   "outputs": [],
   "source": [
    "var_bool"
   ]
  },
  {
   "cell_type": "code",
   "execution_count": null,
   "id": "da220e40",
   "metadata": {
    "scrolled": true
   },
   "outputs": [],
   "source": [
    "var_cat"
   ]
  },
  {
   "cell_type": "code",
   "execution_count": null,
   "id": "ae62874d",
   "metadata": {},
   "outputs": [],
   "source": [
    "var_texto"
   ]
  },
  {
   "cell_type": "markdown",
   "id": "6f8585a7",
   "metadata": {},
   "source": [
    "### Numéricas y bool"
   ]
  },
  {
   "cell_type": "code",
   "execution_count": null,
   "id": "43a8ad13",
   "metadata": {},
   "outputs": [],
   "source": [
    "df_num_fin=df_independientes[var_num+var_bool]\n",
    "df_num_fin"
   ]
  },
  {
   "cell_type": "markdown",
   "id": "f7d9e7a1",
   "metadata": {},
   "source": [
    "### Categoricas"
   ]
  },
  {
   "cell_type": "code",
   "execution_count": null,
   "id": "f6910732",
   "metadata": {},
   "outputs": [],
   "source": [
    "### Contar el número de categorias por variable"
   ]
  },
  {
   "cell_type": "code",
   "execution_count": null,
   "id": "ec394208",
   "metadata": {},
   "outputs": [],
   "source": [
    "num_min_cat=150"
   ]
  },
  {
   "cell_type": "code",
   "execution_count": null,
   "id": "f66b7517",
   "metadata": {},
   "outputs": [],
   "source": [
    "df_cat_fin=df_independientes[var_cat]\n",
    "df_cat_fin"
   ]
  },
  {
   "cell_type": "code",
   "execution_count": null,
   "id": "1c1ecc2f",
   "metadata": {},
   "outputs": [],
   "source": [
    "for var in var_cat:\n",
    "    df_cat_fin[var]=df_cat_fin[[var]].applymap(str)\n",
    "    df_cat_fin[var]=df_cat_fin[var].apply(lambda x: re.sub('[^A-Za-z0-9_.]+', '_', x))\n",
    "    df_aux=df_cat_fin[var].value_counts().to_frame('num')\n",
    "    aux_cats=df_aux[df_aux['num']>=num_min_cat].index\n",
    "    df_cat_fin[var]=np.where(df_cat_fin[var].isin(aux_cats),df_cat_fin[var],'otro')"
   ]
  },
  {
   "cell_type": "code",
   "execution_count": null,
   "id": "42588e70",
   "metadata": {},
   "outputs": [],
   "source": [
    "len(df_cat_fin['ASSIGNEDOWNERGROUP'].value_counts().to_frame('num').index)"
   ]
  },
  {
   "cell_type": "code",
   "execution_count": null,
   "id": "278fde31",
   "metadata": {},
   "outputs": [],
   "source": [
    "df_cat_fin['ASSIGNEDOWNERGROUP'].value_counts().to_frame('num')"
   ]
  },
  {
   "cell_type": "code",
   "execution_count": null,
   "id": "20daa517",
   "metadata": {},
   "outputs": [],
   "source": [
    "df_cat_fin[df_cat_fin['ASSIGNEDOWNERGROUP']=='otro']"
   ]
  },
  {
   "cell_type": "code",
   "execution_count": null,
   "id": "26cdb49f",
   "metadata": {
    "scrolled": true
   },
   "outputs": [],
   "source": [
    "class_ohe = OneHotEncoder(handle_unknown=\"ignore\")\n",
    "class_ohe = class_ohe.fit(df_cat_fin[var_cat])\n",
    "tablaAnalisis_class_ohe = class_ohe.transform(df_cat_fin[var_cat]).toarray()\n",
    "colDummies=class_ohe.get_feature_names(var_cat)"
   ]
  },
  {
   "cell_type": "code",
   "execution_count": null,
   "id": "5af27db9",
   "metadata": {},
   "outputs": [],
   "source": [
    "tablaAnalisis_class_ohe"
   ]
  },
  {
   "cell_type": "code",
   "execution_count": null,
   "id": "a965f0e8",
   "metadata": {},
   "outputs": [],
   "source": [
    "df_cat_finv2=pd.DataFrame(tablaAnalisis_class_ohe,index=df_cat_fin.index, columns=colDummies)"
   ]
  },
  {
   "cell_type": "code",
   "execution_count": null,
   "id": "9b236e17",
   "metadata": {},
   "outputs": [],
   "source": [
    "df_cat_finv2"
   ]
  },
  {
   "cell_type": "code",
   "execution_count": null,
   "id": "1413a220",
   "metadata": {
    "scrolled": true
   },
   "outputs": [],
   "source": [
    "list(df_cat_finv2.columns.values)"
   ]
  },
  {
   "cell_type": "code",
   "execution_count": null,
   "id": "24b3f25b",
   "metadata": {},
   "outputs": [],
   "source": [
    "[number for number in list(df_cat_finv2.columns.values) if list(df_cat_finv2.columns.values).count(number) > 1]"
   ]
  },
  {
   "cell_type": "markdown",
   "id": "f04c6b83",
   "metadata": {},
   "source": [
    "### Texto\n",
    "Saltar hasta lectura de los resultados"
   ]
  },
  {
   "cell_type": "code",
   "execution_count": null,
   "id": "2d772f33",
   "metadata": {},
   "outputs": [],
   "source": [
    "num_topicos=5"
   ]
  },
  {
   "cell_type": "code",
   "execution_count": null,
   "id": "c4862c3d",
   "metadata": {},
   "outputs": [],
   "source": [
    "tokenizer = ToktokTokenizer()"
   ]
  },
  {
   "cell_type": "code",
   "execution_count": null,
   "id": "6b1da042",
   "metadata": {},
   "outputs": [],
   "source": [
    "df_text_fin=df_independientes[var_texto]\n",
    "df_text_fin"
   ]
  },
  {
   "cell_type": "code",
   "execution_count": null,
   "id": "2832a4a4",
   "metadata": {},
   "outputs": [],
   "source": [
    "def disbribucionProbTopicos_old(arr_text):    \n",
    "    #print(arr_text,valdis)   \n",
    "    print(arr_text)\n",
    "    if arr_text==[]:\n",
    "        return np.zeros(num_topicos)\n",
    "    else:\n",
    "        bow_comentario = diccionario.doc2bow(arr_text)\n",
    "        distribucion_noticia = lda[bow_comentario]        \n",
    "        df_aux=pd.DataFrame(distribucion_noticia,columns=['ind','prob'])        \n",
    "        df_plan=pd.DataFrame(index=range(0,num_topicos))\n",
    "        df_plan=df_plan.merge(df_aux, left_index=True, right_on='ind', how='left')\n",
    "        df_plan.fillna(0,inplace=True)\n",
    "        df_plan.set_index('ind', inplace=True)            \n",
    "        return df_plan['prob']"
   ]
  },
  {
   "cell_type": "code",
   "execution_count": null,
   "id": "4c3693a2",
   "metadata": {},
   "outputs": [],
   "source": [
    "from datetime import datetime"
   ]
  },
  {
   "cell_type": "code",
   "execution_count": null,
   "id": "7306a236",
   "metadata": {},
   "outputs": [],
   "source": [
    "dic_lda={}"
   ]
  },
  {
   "cell_type": "code",
   "execution_count": null,
   "id": "b5376d20",
   "metadata": {
    "scrolled": true
   },
   "outputs": [],
   "source": [
    "for var in var_texto:\n",
    "    print(var)\n",
    "    \n",
    "    print(\" preprocesamiento texto:\",datetime.now())\n",
    "    df_text_fin[var] = df_text_fin[var].apply(limpiar_texto)\n",
    "    df_text_fin[var] = df_text_fin[var].apply(tokenizer.tokenize)\n",
    "    df_text_fin[var] = df_text_fin[var].apply(filtrar_stopword_digitos)\n",
    "    df_text_fin[var] = df_text_fin[var].apply(stem_palabras)\n",
    "    \n",
    "    print(\" gramas y corpus:\",datetime.now())\n",
    "    lista_general = df_text_fin[var].tolist()\n",
    "    lista_general = [x for x in lista_general if x!= []]\n",
    "    \n",
    "    bigram = gensim.models.Phrases(lista_general, min_count=5, threshold=10) \n",
    "    trigram = gensim.models.Phrases(bigram[lista_general], threshold=10)  \n",
    "\n",
    "    bigram_mod = gensim.models.phrases.Phraser(bigram)\n",
    "    trigram_mod = gensim.models.phrases.Phraser(trigram)\n",
    "\n",
    "    data_words_bigrams = make_bigrams(lista_general,bigram_mod)\n",
    "\n",
    "    diccionario = Dictionary(data_words_bigrams)    \n",
    "\n",
    "    diccionario.filter_extremes(no_below=2, no_above = 0.9)\n",
    "    #print(f'Número de tokens: {len(diccionario)}')\n",
    "    corpus = [diccionario.doc2bow(noticia) for noticia in data_words_bigrams]\n",
    "    \n",
    "    print(\" modelado de tópicos:\",datetime.now())    \n",
    "    dic_lda[var] = LdaModel(corpus=corpus, id2word=diccionario, \n",
    "               num_topics=num_topicos, random_state=35, \n",
    "               chunksize=500, iterations=10, passes=10, alpha='auto')    "
   ]
  },
  {
   "cell_type": "code",
   "execution_count": null,
   "id": "65dc9206",
   "metadata": {},
   "outputs": [],
   "source": [
    "#Guardar LDA\n",
    "ruta_objeto= f\"modeloEntrenado/ldas.pkl\"\n",
    "dump(dic_lda, ruta_objeto)"
   ]
  },
  {
   "cell_type": "code",
   "execution_count": null,
   "id": "d61402a9",
   "metadata": {},
   "outputs": [],
   "source": [
    "#validar tópicos generados"
   ]
  },
  {
   "cell_type": "code",
   "execution_count": null,
   "id": "4ef90a41",
   "metadata": {},
   "outputs": [],
   "source": [
    "for var in var_texto:\n",
    "    print(var)\n",
    "    impresionTopicos(dic_lda[var],5,num_topicos)"
   ]
  },
  {
   "cell_type": "code",
   "execution_count": null,
   "id": "3bb45a61",
   "metadata": {},
   "outputs": [],
   "source": [
    "def disbribucionProbTopicos(row, var):   \n",
    "    arr_text=row[var]   \n",
    "    lda=dic_lda[var]\n",
    "    if arr_text==[]:\n",
    "        return np.zeros(num_topicos)\n",
    "    else:\n",
    "        bow_comentario = diccionario.doc2bow(arr_text)\n",
    "        try:\n",
    "            distribucion_noticia = lda[bow_comentario]\n",
    "        except:\n",
    "            return np.zeros(num_topicos)        \n",
    "        df_aux=pd.DataFrame(distribucion_noticia,columns=['ind','prob'])        \n",
    "        df_plan=pd.DataFrame(index=range(0,num_topicos))\n",
    "        df_plan=df_plan.merge(df_aux, left_index=True, right_on='ind', how='left')\n",
    "        df_plan.fillna(0,inplace=True)\n",
    "        df_plan.set_index('ind', inplace=True)          \n",
    "        return df_plan['prob']"
   ]
  },
  {
   "cell_type": "code",
   "execution_count": null,
   "id": "f1406108",
   "metadata": {},
   "outputs": [],
   "source": [
    "df_text_fin[[f\"CL_C_DESC_AFECTACION_{s}\" for s in list(range(0,num_topicos))]]"
   ]
  },
  {
   "cell_type": "code",
   "execution_count": null,
   "id": "c893a69d",
   "metadata": {},
   "outputs": [],
   "source": [
    "dfs_proc_texto={}"
   ]
  },
  {
   "cell_type": "code",
   "execution_count": null,
   "id": "8685ba02",
   "metadata": {
    "scrolled": true
   },
   "outputs": [],
   "source": [
    "#Distribuir probabilidad\n",
    "for var in var_texto:\n",
    "    print(var,\" probabilidades salida:\",datetime.now())    \n",
    "    for i in range(0,num_topicos):\n",
    "        df_text_fin[var+'_'+str(i)]=0\n",
    "    dfs_proc_texto[var]=df_text_fin.apply(lambda row: disbribucionProbTopicos(row,var), axis=1)"
   ]
  },
  {
   "cell_type": "code",
   "execution_count": null,
   "id": "103d869b",
   "metadata": {},
   "outputs": [],
   "source": [
    "#Guardar LDA\n",
    "ruta_objeto= f\"modeloEntrenado/dic_text.pkl\"\n",
    "dump(dfs_proc_texto, ruta_objeto)"
   ]
  },
  {
   "cell_type": "code",
   "execution_count": null,
   "id": "bd965980",
   "metadata": {},
   "outputs": [],
   "source": [
    "dfs_proc_texto = load(ruta_objeto)"
   ]
  },
  {
   "cell_type": "code",
   "execution_count": null,
   "id": "a1f8617d",
   "metadata": {},
   "outputs": [],
   "source": [
    "# Seleccionar columnas\n",
    "var_texto_sel=['CL_INC_IMPACTO','DESCRIPTION','INCMEXCLUSION','INCSOLUCION']"
   ]
  },
  {
   "cell_type": "code",
   "execution_count": null,
   "id": "3eae788f",
   "metadata": {
    "scrolled": true
   },
   "outputs": [],
   "source": [
    "df_text_finV2=pd.DataFrame()\n",
    "for var in var_texto_sel:\n",
    "    print(var)\n",
    "    aux_df=pd.DataFrame.from_dict(dfs_proc_texto[var])\n",
    "    if len(aux_df.columns)==1:\n",
    "        aux_df=pd.DataFrame(aux_df[0].tolist(), index= aux_df.index)\n",
    "        \n",
    "    aux_df.columns=[f\"{var}_{s}\" for s in list(range(0,num_topicos))]\n",
    "    if len(df_text_finV2)==0:\n",
    "        df_text_finV2=aux_df.copy()\n",
    "    else:\n",
    "        df_text_finV2=df_text_finV2.merge(aux_df, left_index=True, right_index=True, how='left')"
   ]
  },
  {
   "cell_type": "code",
   "execution_count": null,
   "id": "16e8c3be",
   "metadata": {},
   "outputs": [],
   "source": [
    "df_text_finV2"
   ]
  },
  {
   "cell_type": "code",
   "execution_count": null,
   "id": "f29b7fce",
   "metadata": {},
   "outputs": [],
   "source": [
    "df_text_finV2.describe()"
   ]
  },
  {
   "cell_type": "markdown",
   "id": "0f929668",
   "metadata": {},
   "source": [
    "##  Union tablas"
   ]
  },
  {
   "cell_type": "code",
   "execution_count": null,
   "id": "6466855e",
   "metadata": {},
   "outputs": [],
   "source": [
    "df_text_finV2.shape"
   ]
  },
  {
   "cell_type": "code",
   "execution_count": null,
   "id": "ff5f3e87",
   "metadata": {},
   "outputs": [],
   "source": [
    "df_num_fin.shape"
   ]
  },
  {
   "cell_type": "code",
   "execution_count": null,
   "id": "f377897f",
   "metadata": {},
   "outputs": [],
   "source": [
    "df_cat_finv2.shape"
   ]
  },
  {
   "cell_type": "code",
   "execution_count": null,
   "id": "d4888c51",
   "metadata": {},
   "outputs": [],
   "source": [
    "df_base=df_text_finV2.merge(df_num_fin, left_index=True, right_index=True, how='left')\n",
    "df_base=df_base.merge(df_cat_finv2,left_index=True, right_index=True, how='left' )"
   ]
  },
  {
   "cell_type": "code",
   "execution_count": null,
   "id": "3131f17d",
   "metadata": {},
   "outputs": [],
   "source": [
    "df_base.shape"
   ]
  },
  {
   "cell_type": "code",
   "execution_count": null,
   "id": "2358ce37",
   "metadata": {},
   "outputs": [],
   "source": [
    "et_base"
   ]
  },
  {
   "cell_type": "code",
   "execution_count": null,
   "id": "abbc7ed6",
   "metadata": {},
   "outputs": [],
   "source": [
    "df_base=df_base.merge(et_base,left_index=True, right_on='TICKETID', how='left' ).set_index('TICKETID')"
   ]
  },
  {
   "cell_type": "code",
   "execution_count": null,
   "id": "e688ff4f",
   "metadata": {},
   "outputs": [],
   "source": [
    "df_base.set_index('TICKETID',inplace=True)"
   ]
  },
  {
   "cell_type": "code",
   "execution_count": null,
   "id": "2a3fc2ee",
   "metadata": {},
   "outputs": [],
   "source": [
    "#Guardar parcial\n",
    "#df_base.to_csv('modeloEntrenado/base_parcialV2.csv')"
   ]
  },
  {
   "cell_type": "code",
   "execution_count": null,
   "id": "1b2066dc",
   "metadata": {},
   "outputs": [],
   "source": [
    "### Cargar desde este punto"
   ]
  },
  {
   "cell_type": "code",
   "execution_count": null,
   "id": "6fe4dca2",
   "metadata": {},
   "outputs": [],
   "source": [
    "df_base=pd.read_csv('modeloEntrenado/base_parcialV2.csv').set_index('TICKETID').drop(columns=['Unnamed: 0'])"
   ]
  },
  {
   "cell_type": "code",
   "execution_count": null,
   "id": "b0e61555",
   "metadata": {},
   "outputs": [],
   "source": [
    "list(df_base.columns.values)"
   ]
  },
  {
   "cell_type": "code",
   "execution_count": null,
   "id": "f180d17c",
   "metadata": {},
   "outputs": [],
   "source": [
    "[number for number in list(df_base.columns.values) if list(df_base.columns.values).count(number) > 1]"
   ]
  },
  {
   "cell_type": "markdown",
   "id": "9163c12e",
   "metadata": {},
   "source": [
    "## optimización memoria"
   ]
  },
  {
   "cell_type": "code",
   "execution_count": null,
   "id": "af170f87",
   "metadata": {},
   "outputs": [],
   "source": [
    "import gc\n",
    "del E_MF_MM1_T\n",
    "del E_MF_MM2_T\n",
    "gc.collect()\n"
   ]
  },
  {
   "cell_type": "code",
   "execution_count": null,
   "id": "5523565c",
   "metadata": {},
   "outputs": [],
   "source": [
    "import gc\n",
    "#del df_independientes\n",
    "#del df_dependientes\n",
    "#del et_fc\n",
    "#del et_rem\n",
    "#del et_cau\n",
    "#del et_prob\n",
    "#del df_num_fin\n",
    "#del df_cat_fin\n",
    "#del tablaAnalisis_class_ohe\n",
    "#del df_cat_finv2\n",
    "#del df_text_fin\n",
    "del dfs_proc_texto\n",
    "del df_text_finV2\n",
    "gc.collect()"
   ]
  },
  {
   "cell_type": "code",
   "execution_count": null,
   "id": "9b40cc9f",
   "metadata": {},
   "outputs": [],
   "source": []
  },
  {
   "cell_type": "markdown",
   "id": "b2a484f5",
   "metadata": {},
   "source": [
    "## Borrar desde aqui"
   ]
  },
  {
   "cell_type": "markdown",
   "id": "d200c980",
   "metadata": {},
   "source": [
    "### Plan\n",
    "* Unir tablas base\n",
    "* alistar etiquetas\n",
    "* probar técnicas\n",
    " * guardar resultado y probabilidad"
   ]
  },
  {
   "cell_type": "markdown",
   "id": "d7186091",
   "metadata": {},
   "source": [
    "# Modelado\n",
    "\n",
    "* primero un modelo con LightGBM"
   ]
  },
  {
   "cell_type": "code",
   "execution_count": null,
   "id": "ff826a71",
   "metadata": {},
   "outputs": [],
   "source": [
    "val=df_base.isnull().sum().to_frame('num_nulls')"
   ]
  },
  {
   "cell_type": "code",
   "execution_count": null,
   "id": "7ea7217f",
   "metadata": {
    "scrolled": true
   },
   "outputs": [],
   "source": [
    "val=df_base.dtypes.to_frame('tipo')\n",
    "val"
   ]
  },
  {
   "cell_type": "code",
   "execution_count": null,
   "id": "803b7416",
   "metadata": {},
   "outputs": [],
   "source": [
    "val['tipo'].value_counts()"
   ]
  },
  {
   "cell_type": "code",
   "execution_count": null,
   "id": "7961cc35",
   "metadata": {},
   "outputs": [],
   "source": [
    "val[val['tipo']=='object']"
   ]
  },
  {
   "cell_type": "code",
   "execution_count": null,
   "id": "fe881fb2",
   "metadata": {},
   "outputs": [],
   "source": []
  },
  {
   "cell_type": "code",
   "execution_count": null,
   "id": "9f373d42",
   "metadata": {},
   "outputs": [],
   "source": [
    "val.head(3)"
   ]
  },
  {
   "cell_type": "code",
   "execution_count": null,
   "id": "321e3351",
   "metadata": {},
   "outputs": [],
   "source": [
    "val[val['num_nulls']>0]"
   ]
  },
  {
   "cell_type": "markdown",
   "id": "6a2dfe87",
   "metadata": {},
   "source": [
    "## Modelado"
   ]
  },
  {
   "cell_type": "code",
   "execution_count": null,
   "id": "6486ca2e",
   "metadata": {},
   "outputs": [],
   "source": [
    "import lightgbm as lgb"
   ]
  },
  {
   "cell_type": "code",
   "execution_count": null,
   "id": "61ca76e2",
   "metadata": {},
   "outputs": [],
   "source": [
    "X_columns=df_base.columns.values.tolist()"
   ]
  },
  {
   "cell_type": "code",
   "execution_count": null,
   "id": "3218cf55",
   "metadata": {},
   "outputs": [],
   "source": [
    "y_columns=['FAILURECODE','REMEDY','CAUSE','PROBLEM']"
   ]
  },
  {
   "cell_type": "code",
   "execution_count": null,
   "id": "749048f2",
   "metadata": {
    "scrolled": true
   },
   "outputs": [],
   "source": [
    "X_columns"
   ]
  },
  {
   "cell_type": "code",
   "execution_count": null,
   "id": "48af349a",
   "metadata": {
    "scrolled": false
   },
   "outputs": [],
   "source": [
    "len(X_columns)"
   ]
  },
  {
   "cell_type": "code",
   "execution_count": null,
   "id": "c49ca79d",
   "metadata": {},
   "outputs": [],
   "source": [
    "type(X_columns)"
   ]
  },
  {
   "cell_type": "code",
   "execution_count": null,
   "id": "07eb2a64",
   "metadata": {},
   "outputs": [],
   "source": [
    "X_columns.remove('FAILURECODE')\n",
    "X_columns.remove('REMEDY')\n",
    "X_columns.remove('CAUSE')\n",
    "X_columns.remove('PROBLEM')\n",
    "#X_columns.remove('Unnamed: 0')"
   ]
  },
  {
   "cell_type": "code",
   "execution_count": null,
   "id": "c5066c06",
   "metadata": {},
   "outputs": [],
   "source": [
    "X_Var=df_base[X_columns]"
   ]
  },
  {
   "cell_type": "code",
   "execution_count": null,
   "id": "7681776c",
   "metadata": {},
   "outputs": [],
   "source": [
    "#X_Var.set_index('TICKETID',inplace=True)"
   ]
  },
  {
   "cell_type": "code",
   "execution_count": null,
   "id": "218817da",
   "metadata": {},
   "outputs": [],
   "source": [
    "y_Var=df_base[y_columns]"
   ]
  },
  {
   "cell_type": "code",
   "execution_count": null,
   "id": "ef0ad677",
   "metadata": {},
   "outputs": [],
   "source": [
    "import gc\n",
    "del df_base\n",
    "gc.collect()"
   ]
  },
  {
   "cell_type": "code",
   "execution_count": null,
   "id": "29abbcd6",
   "metadata": {},
   "outputs": [],
   "source": [
    "import gc\n",
    "del X_train\n",
    "del X_test\n",
    "del y_train\n",
    "del y_test\n",
    "gc.collect()"
   ]
  },
  {
   "cell_type": "code",
   "execution_count": null,
   "id": "312b5d02",
   "metadata": {},
   "outputs": [],
   "source": [
    "len(X_Var.columns)"
   ]
  },
  {
   "cell_type": "code",
   "execution_count": null,
   "id": "f5a247d9",
   "metadata": {},
   "outputs": [],
   "source": [
    "X_train, X_test, y_train, y_test = train_test_split(X_Var, y_Var['FAILURECODE'], test_size = 0.2, random_state = 86)"
   ]
  },
  {
   "cell_type": "code",
   "execution_count": null,
   "id": "cd6ee93f",
   "metadata": {},
   "outputs": [],
   "source": [
    "#X_train = X_train.rename(columns = lambda x:re.sub('[^A-Za-z0-9_]+', '', x))"
   ]
  },
  {
   "cell_type": "code",
   "execution_count": null,
   "id": "652b8d8f",
   "metadata": {},
   "outputs": [],
   "source": [
    "#X_test = X_test.rename(columns = lambda x:re.sub('[^A-Za-z0-9_]+', '', x))"
   ]
  },
  {
   "cell_type": "code",
   "execution_count": null,
   "id": "30a9ecf0",
   "metadata": {},
   "outputs": [],
   "source": [
    "#X_train=X_train.drop(columns=['Unnamed: 0'])\n",
    "#X_test=X_test.drop(columns=['Unnamed: 0'])"
   ]
  },
  {
   "cell_type": "code",
   "execution_count": null,
   "id": "acce19c5",
   "metadata": {},
   "outputs": [],
   "source": []
  },
  {
   "cell_type": "code",
   "execution_count": null,
   "id": "f0c50ccf",
   "metadata": {},
   "outputs": [],
   "source": [
    "modelLGBM=LGBMClassifier(n_estimators=500, learning_rate=0.01, reg_alpha=1, reg_lambda=3)"
   ]
  },
  {
   "cell_type": "code",
   "execution_count": null,
   "id": "413e9d2e",
   "metadata": {},
   "outputs": [],
   "source": [
    "modelLGBM.fit(X_train, y_train)"
   ]
  },
  {
   "cell_type": "code",
   "execution_count": null,
   "id": "96aa2343",
   "metadata": {},
   "outputs": [],
   "source": [
    "#Guardar LDA\n",
    "ruta_objeto= f\"modeloEntrenado/modelo_failureCode.pkl\"\n",
    "dump(modelLGBM, ruta_objeto)"
   ]
  },
  {
   "cell_type": "code",
   "execution_count": null,
   "id": "e0d3302c",
   "metadata": {},
   "outputs": [],
   "source": [
    "pred_test_proba=modelLGBM.predict_proba(X_test)[:,1]"
   ]
  },
  {
   "cell_type": "code",
   "execution_count": null,
   "id": "9bb04ead",
   "metadata": {},
   "outputs": [],
   "source": [
    "pred_test=modelLGBM.predict(X_test)"
   ]
  },
  {
   "cell_type": "code",
   "execution_count": null,
   "id": "b79d0061",
   "metadata": {},
   "outputs": [],
   "source": [
    "# Exactitud"
   ]
  },
  {
   "cell_type": "code",
   "execution_count": null,
   "id": "f6116af9",
   "metadata": {},
   "outputs": [],
   "source": [
    "pred_test"
   ]
  },
  {
   "cell_type": "code",
   "execution_count": null,
   "id": "de836363",
   "metadata": {},
   "outputs": [],
   "source": [
    "len(pred_test)"
   ]
  },
  {
   "cell_type": "code",
   "execution_count": null,
   "id": "e5f9063b",
   "metadata": {},
   "outputs": [],
   "source": [
    "len(pred_test_proba)"
   ]
  },
  {
   "cell_type": "code",
   "execution_count": null,
   "id": "1d469f25",
   "metadata": {},
   "outputs": [],
   "source": [
    "df_test=y_test.to_frame('real')\n",
    "df_test"
   ]
  },
  {
   "cell_type": "code",
   "execution_count": null,
   "id": "5c06e655",
   "metadata": {},
   "outputs": [],
   "source": [
    "df_test['prediccion']=pred_test\n",
    "df_test"
   ]
  },
  {
   "cell_type": "code",
   "execution_count": null,
   "id": "6de7004e",
   "metadata": {},
   "outputs": [],
   "source": [
    "df_test['resultado']=np.where(df_test['prediccion']==df_test['real'],1,0)"
   ]
  },
  {
   "cell_type": "code",
   "execution_count": null,
   "id": "99d7eb81",
   "metadata": {},
   "outputs": [],
   "source": [
    "df_test['resultado'].sum()"
   ]
  },
  {
   "cell_type": "code",
   "execution_count": null,
   "id": "2cae951e",
   "metadata": {},
   "outputs": [],
   "source": [
    "df_test['resultado'].sum()/len(df_test)"
   ]
  },
  {
   "cell_type": "markdown",
   "id": "30b93139",
   "metadata": {},
   "source": [
    "# Modelo Problem"
   ]
  },
  {
   "cell_type": "code",
   "execution_count": null,
   "id": "dcc4cc4a",
   "metadata": {},
   "outputs": [],
   "source": [
    "del X_train\n",
    "del X_test\n",
    "del y_train\n",
    "del y_test\n",
    "gc.collect()"
   ]
  },
  {
   "cell_type": "code",
   "execution_count": null,
   "id": "3c79d790",
   "metadata": {},
   "outputs": [],
   "source": [
    "df_base=pd.read_csv('modeloEntrenado/base_parcialV2.csv').set_index('TICKETID').drop(columns=['Unnamed: 0'])"
   ]
  },
  {
   "cell_type": "code",
   "execution_count": null,
   "id": "16e21ac0",
   "metadata": {},
   "outputs": [],
   "source": [
    "#eliminar los problem null"
   ]
  },
  {
   "cell_type": "code",
   "execution_count": null,
   "id": "eb165d6f",
   "metadata": {},
   "outputs": [],
   "source": [
    "len(df_base[df_base['PROBLEM'].isnull()])"
   ]
  },
  {
   "cell_type": "code",
   "execution_count": null,
   "id": "46f4bf37",
   "metadata": {},
   "outputs": [],
   "source": [
    "len(df_base)"
   ]
  },
  {
   "cell_type": "code",
   "execution_count": null,
   "id": "fcefc1bb",
   "metadata": {},
   "outputs": [],
   "source": [
    "len(df_base)"
   ]
  },
  {
   "cell_type": "code",
   "execution_count": null,
   "id": "a0046bda",
   "metadata": {},
   "outputs": [],
   "source": [
    "df_base=df_base[df_base['PROBLEM'].notnull()]"
   ]
  },
  {
   "cell_type": "code",
   "execution_count": null,
   "id": "35ebdea1",
   "metadata": {},
   "outputs": [],
   "source": [
    "X_columns=df_base.columns.values.tolist()\n",
    "y_columns=['FAILURECODE','REMEDY','CAUSE','PROBLEM']"
   ]
  },
  {
   "cell_type": "code",
   "execution_count": null,
   "id": "05fb1e37",
   "metadata": {},
   "outputs": [],
   "source": [
    "X_columns.remove('FAILURECODE')\n",
    "X_columns.remove('REMEDY')\n",
    "X_columns.remove('CAUSE')\n",
    "X_columns.remove('PROBLEM')"
   ]
  },
  {
   "cell_type": "code",
   "execution_count": null,
   "id": "2da914ce",
   "metadata": {},
   "outputs": [],
   "source": [
    "X_Var=df_base[X_columns]\n",
    "y_Var=df_base[y_columns]"
   ]
  },
  {
   "cell_type": "code",
   "execution_count": null,
   "id": "17777499",
   "metadata": {},
   "outputs": [],
   "source": [
    "X_train, X_test, y_train, y_test = train_test_split(X_Var, y_Var['PROBLEM'], test_size = 0.2, random_state = 86)"
   ]
  },
  {
   "cell_type": "code",
   "execution_count": null,
   "id": "1914e986",
   "metadata": {},
   "outputs": [],
   "source": [
    "import gc\n",
    "del df_base\n",
    "gc.collect()"
   ]
  },
  {
   "cell_type": "code",
   "execution_count": null,
   "id": "d2a7478d",
   "metadata": {},
   "outputs": [],
   "source": [
    "modelLGBM_problem=LGBMClassifier(n_estimators=500, learning_rate=0.01, reg_alpha=1, reg_lambda=3)"
   ]
  },
  {
   "cell_type": "code",
   "execution_count": null,
   "id": "7338ca60",
   "metadata": {},
   "outputs": [],
   "source": [
    "modelLGBM_problem.fit(X_train, y_train)"
   ]
  },
  {
   "cell_type": "code",
   "execution_count": null,
   "id": "e883dc92",
   "metadata": {},
   "outputs": [],
   "source": [
    "#Guardar modelo\n",
    "ruta_objeto= f\"modeloEntrenado/modelo_problem.pkl\"\n",
    "dump(modelLGBM_problem, ruta_objeto)"
   ]
  },
  {
   "cell_type": "code",
   "execution_count": null,
   "id": "d6b04328",
   "metadata": {},
   "outputs": [],
   "source": [
    "pred_test_proba=modelLGBM_problem.predict_proba(X_test)[:,1]\n",
    "pred_test=modelLGBM.predict(X_test)"
   ]
  },
  {
   "cell_type": "code",
   "execution_count": null,
   "id": "d8be32b5",
   "metadata": {},
   "outputs": [],
   "source": [
    "df_test=y_test.to_frame('real')\n",
    "df_test"
   ]
  },
  {
   "cell_type": "code",
   "execution_count": null,
   "id": "4c8b479d",
   "metadata": {},
   "outputs": [],
   "source": [
    "df_test['prediccion']=pred_test\n",
    "df_test"
   ]
  },
  {
   "cell_type": "code",
   "execution_count": null,
   "id": "411a330d",
   "metadata": {},
   "outputs": [],
   "source": [
    "df_test['resultado']=np.where(df_test['prediccion']==df_test['real'],1,0)"
   ]
  },
  {
   "cell_type": "code",
   "execution_count": null,
   "id": "695e11c8",
   "metadata": {},
   "outputs": [],
   "source": [
    "df_test['resultado'].sum()"
   ]
  },
  {
   "cell_type": "code",
   "execution_count": null,
   "id": "23d06e74",
   "metadata": {},
   "outputs": [],
   "source": [
    "df_test['resultado'].sum()/len(df_test)"
   ]
  },
  {
   "cell_type": "markdown",
   "id": "dab6fcea",
   "metadata": {},
   "source": [
    "# Causa"
   ]
  },
  {
   "cell_type": "markdown",
   "id": "adc29b79",
   "metadata": {},
   "source": [
    "## Manejo memoria"
   ]
  },
  {
   "cell_type": "code",
   "execution_count": null,
   "id": "dc1bf6bb",
   "metadata": {},
   "outputs": [],
   "source": [
    "import numpy as np\n",
    "import pandas as pd\n",
    "import sys\n",
    "def show_mem_usage():\n",
    "    '''Displays memory usage from inspection\n",
    "    of global variables in this notebook'''\n",
    "    gl = sys._getframe(1).f_globals\n",
    "    vars= {}\n",
    "    for k,v in list(gl.items()):\n",
    "        # for pandas dataframes\n",
    "        if hasattr(v, 'memory_usage'):\n",
    "            mem = v.memory_usage(deep=True)\n",
    "            if not np.isscalar(mem):\n",
    "                mem = mem.sum()\n",
    "            vars.setdefault(id(v),[mem]).append(k)\n",
    "        # work around for a bug\n",
    "        ##elif isinstance(v,pd.Panel):\n",
    "        ##    v = v.values\n",
    "        vars.setdefault(id(v),[sys.getsizeof(v)]).append(k)\n",
    "    total = 0\n",
    "    for k,(value,*names) in vars.items():\n",
    "        if value>1e6:\n",
    "            print(names,\"%.3fMB\"%(value/1e6))\n",
    "        total += value\n",
    "    print(\"%.3fMB\"%(total/1e6))"
   ]
  },
  {
   "cell_type": "code",
   "execution_count": null,
   "id": "2c0e105e",
   "metadata": {},
   "outputs": [],
   "source": [
    "show_mem_usage()"
   ]
  },
  {
   "cell_type": "code",
   "execution_count": null,
   "id": "a7346ba4",
   "metadata": {},
   "outputs": [],
   "source": [
    "del aux_df\n",
    "gc.collect()"
   ]
  },
  {
   "cell_type": "code",
   "execution_count": null,
   "id": "4d5629f9",
   "metadata": {},
   "outputs": [],
   "source": []
  },
  {
   "cell_type": "markdown",
   "id": "11ec9d28",
   "metadata": {},
   "source": [
    "### Recortes"
   ]
  },
  {
   "cell_type": "code",
   "execution_count": null,
   "id": "5cfabc40",
   "metadata": {},
   "outputs": [],
   "source": [
    "def train_evaluate(search_params):   \n",
    "   train_data = lgb.Dataset(X_train, label=y_train)\n",
    "   valid_data = lgb.Dataset(X_test, label=y_test, reference=train_data)\n",
    "\n",
    "   params = {'metric':FIXED_PARAMS['metric'],\n",
    "             'objective':FIXED_PARAMS['objective'],\n",
    "             **search_params}\n",
    "\n",
    "   model = lgb.train(params, train_data,                     \n",
    "                     valid_sets=[valid_data],\n",
    "                     num_boost_round=FIXED_PARAMS['num_boost_round'],\n",
    "                     early_stopping_rounds=FIXED_PARAMS['early_stopping_rounds'],\n",
    "                     valid_names=['valid'])\n",
    "   score = model.best_score['valid']['auc']\n",
    "   return score, model"
   ]
  },
  {
   "cell_type": "code",
   "execution_count": null,
   "id": "9247d4b8",
   "metadata": {},
   "outputs": [],
   "source": [
    "FIXED_PARAMS={'objective': 'binary',\n",
    "             'metric': 'auc',\n",
    "             'is_unbalance':True,\n",
    "             'bagging_freq':5,\n",
    "             'boosting':'dart',\n",
    "             'num_boost_round':300,\n",
    "             'early_stopping_rounds':30}"
   ]
  },
  {
   "cell_type": "code",
   "execution_count": null,
   "id": "5865c17f",
   "metadata": {},
   "outputs": [],
   "source": [
    "SEARCH_PARAMS={'learning_rate': 0.1,\n",
    "                'max_depth': 10,\n",
    "                'num_leaves': 50,\n",
    "                'feature_fraction': 1,\n",
    "                'subsample': 0.2}"
   ]
  },
  {
   "cell_type": "code",
   "execution_count": null,
   "id": "af9a1db3",
   "metadata": {},
   "outputs": [],
   "source": [
    "val=X_Var.dtypes.to_frame('tipo')\n",
    "val"
   ]
  },
  {
   "cell_type": "code",
   "execution_count": null,
   "id": "44f0ab96",
   "metadata": {},
   "outputs": [],
   "source": [
    "val[val['tipo']=='object']"
   ]
  },
  {
   "cell_type": "code",
   "execution_count": null,
   "id": "aff94968",
   "metadata": {},
   "outputs": [],
   "source": [
    "lgb2_Score,modelLGBM2= train_evaluate(SEARCH_PARAMS)"
   ]
  }
 ],
 "metadata": {
  "kernelspec": {
   "display_name": "Python 3 (ipykernel)",
   "language": "python",
   "name": "python3"
  },
  "language_info": {
   "codemirror_mode": {
    "name": "ipython",
    "version": 3
   },
   "file_extension": ".py",
   "mimetype": "text/x-python",
   "name": "python",
   "nbconvert_exporter": "python",
   "pygments_lexer": "ipython3",
   "version": "3.8.11"
  }
 },
 "nbformat": 4,
 "nbformat_minor": 5
}
